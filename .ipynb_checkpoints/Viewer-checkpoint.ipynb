{
 "cells": [
  {
   "cell_type": "code",
   "execution_count": 1,
   "id": "6d2ecfb9",
   "metadata": {},
   "outputs": [],
   "source": [
    "%load_ext autoreload\n",
    "%autoreload 2"
   ]
  },
  {
   "cell_type": "code",
   "execution_count": null,
   "id": "5cf2810e",
   "metadata": {},
   "outputs": [],
   "source": [
    "!conda install -y -c conda-forge ipympl\n",
    "!pip install mpl-interactions\n",
    "!pip install 'mpl-interactions[jupyter]'\n",
    "!pip install SimpleITK"
   ]
  },
  {
   "cell_type": "code",
   "execution_count": 2,
   "id": "722dcbb9",
   "metadata": {},
   "outputs": [],
   "source": [
    "import mpl_interactions.ipyplot as iplt"
   ]
  },
  {
   "cell_type": "code",
   "execution_count": 6,
   "id": "3a5630e8",
   "metadata": {},
   "outputs": [],
   "source": [
    "import matplotlib.pyplot as plt\n",
    "import SimpleITK as sitk\n",
    "import numpy as np\n",
    "from data_tools.itk import *\n",
    "import sys\n",
    "import os\n",
    "# define total size\n",
    "plt.rcParams[\"figure.figsize\"] = (8,16)\n",
    "sitk.ProcessObject_SetGlobalWarningDisplay(False)\n",
    "%matplotlib ipympl"
   ]
  },
  {
   "cell_type": "code",
   "execution_count": 8,
   "id": "22da5b83",
   "metadata": {},
   "outputs": [],
   "source": [
    "def foo(path, slice_number):\n",
    "    im = sitk.ReadImage(path)\n",
    "    arr = sitk.GetArrayFromImage(im)\n",
    "    imax = np.max(arr)\n",
    "    plt.rcParams[\"figure.figsize\"] = (8,16)\n",
    "\n",
    "    plt.imshow(\n",
    "        arr[slice_number,:,:],\n",
    "        aspect='auto', vmax=imax, origin='lower')\n",
    "    plt.show()"
   ]
  },
  {
   "cell_type": "code",
   "execution_count": 13,
   "id": "0201291b",
   "metadata": {
    "scrolled": false
   },
   "outputs": [
    {
     "data": {
      "application/vnd.jupyter.widget-view+json": {
       "model_id": "e19b0937121a4f4a96da5023e098467d",
       "version_major": 2,
       "version_minor": 0
      },
      "text/plain": [
       "Canvas(toolbar=Toolbar(toolitems=[('Home', 'Reset original view', 'home', 'home'), ('Back', 'Back to previous …"
      ]
     },
     "metadata": {},
     "output_type": "display_data"
    },
    {
     "data": {
      "application/vnd.jupyter.widget-view+json": {
       "model_id": "aad20134ebad4aa5b9e9e4c7134365d7",
       "version_major": 2,
       "version_minor": 0
      },
      "text/plain": [
       "VBox(children=(HBox(children=(IntSlider(value=0, description='ax_slice', max=60, readout=False), Label(value='…"
      ]
     },
     "metadata": {},
     "output_type": "display_data"
    },
    {
     "data": {
      "application/vnd.jupyter.widget-view+json": {
       "model_id": "bad3735d0e86469b94f81b46341a908c",
       "version_major": 2,
       "version_minor": 0
      },
      "text/plain": [
       "VBox(children=(HBox(children=(IntSlider(value=0, description='sag_slice', max=254, readout=False), Label(value…"
      ]
     },
     "metadata": {},
     "output_type": "display_data"
    },
    {
     "data": {
      "application/vnd.jupyter.widget-view+json": {
       "model_id": "b8b17e2b7fb642249958a3ce352bb436",
       "version_major": 2,
       "version_minor": 0
      },
      "text/plain": [
       "VBox(children=(HBox(children=(IntSlider(value=0, description='cor_slice', max=286, readout=False), Label(value…"
      ]
     },
     "metadata": {},
     "output_type": "display_data"
    }
   ],
   "source": [
    "path = '../imageData/resampled/train/00019/T1w.nii'\n",
    "image = sitk.ReadImage(path)\n",
    "arr = sitk.GetArrayFromImage(image)[::-1,:,:]\n",
    "\n",
    "\n",
    "def axial(ax_slice):\n",
    "    return arr[ax_slice,:,:]\n",
    "\n",
    "def cor(cor_slice):\n",
    "    return arr[:,cor_slice,:]\n",
    "\n",
    "def sag(sag_slice):\n",
    "    return arr[:,:,sag_slice]\n",
    "\n",
    "# define layout\n",
    "fig, ax = plt.subplots(3,1)\n",
    "\n",
    "for a in ax:\n",
    "    a.xaxis.set_visible(False)\n",
    "    a.yaxis.set_visible(False)\n",
    "    \n",
    "ctrl1 = iplt.imshow(axial, ax_slice=np.arange(image.GetSize()[2]), aspect='auto', ax=ax[0], vmin=0, vmax=1, cmap ='gray')\n",
    "ctrl2 = iplt.imshow(sag, sag_slice=np.arange(image.GetSize()[0]), aspect='auto', ax=ax[1], vmin=0, vmax=1, cmap ='gray')\n",
    "crtl3 = iplt.imshow(cor, cor_slice=np.arange(image.GetSize()[1]), aspect='auto', ax=ax[2], vmin=0, vmax=1, cmap ='gray' )\n",
    "fig.tight_layout()\n"
   ]
  },
  {
   "cell_type": "code",
   "execution_count": null,
   "id": "6563ddd9",
   "metadata": {},
   "outputs": [],
   "source": []
  }
 ],
 "metadata": {
  "kernelspec": {
   "display_name": "Python 3",
   "language": "python",
   "name": "python3"
  },
  "language_info": {
   "codemirror_mode": {
    "name": "ipython",
    "version": 3
   },
   "file_extension": ".py",
   "mimetype": "text/x-python",
   "name": "python",
   "nbconvert_exporter": "python",
   "pygments_lexer": "ipython3",
   "version": "3.8.8"
  }
 },
 "nbformat": 4,
 "nbformat_minor": 5
}
