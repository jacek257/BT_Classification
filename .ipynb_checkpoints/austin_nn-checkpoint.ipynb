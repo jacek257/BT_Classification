{
 "cells": [
  {
   "cell_type": "code",
   "execution_count": 1,
   "id": "075e384b-4ca4-4e10-bbd7-972083fc7847",
   "metadata": {},
   "outputs": [],
   "source": [
    "%load_ext autoreload\n",
    "%autoreload 2"
   ]
  },
  {
   "cell_type": "code",
   "execution_count": 60,
   "id": "6bcf3d67-64b3-4e7f-b6c5-f6cad3762bab",
   "metadata": {},
   "outputs": [],
   "source": [
    "import torch \n",
    "import torch.nn as nn\n",
    "import torch.optim as optim\n",
    "from torchvision import transforms\n",
    "from torch.utils.data import Dataset \n",
    "from torch_tools.datasets import *\n",
    "import numpy as np\n",
    "from PIL import Image\n",
    "import os\n",
    "from tqdm import tqdm"
   ]
  },
  {
   "cell_type": "code",
   "execution_count": 30,
   "id": "fb420d67-9d02-4618-a96f-431e287a227f",
   "metadata": {},
   "outputs": [
    {
     "data": {
      "text/plain": [
       "torch.Size([1, 1, 100, 100, 100])"
      ]
     },
     "execution_count": 30,
     "metadata": {},
     "output_type": "execute_result"
    }
   ],
   "source": [
    "# initialize dataloader for testing\n",
    "loader = flair_dataset(\"./tables/nii_data_paths.csv\", transform=None)\n",
    "loader[0][0].shape"
   ]
  },
  {
   "cell_type": "code",
   "execution_count": 66,
   "id": "7ef6f8d3-cef1-4adf-bf9c-ee555d4f8b5e",
   "metadata": {},
   "outputs": [
    {
     "data": {
      "text/plain": [
       "torch.Size([2, 3, 4, 4, 4])"
      ]
     },
     "execution_count": 66,
     "metadata": {},
     "output_type": "execute_result"
    }
   ],
   "source": [
    "layer = nn.Sequential( \n",
    "    nn.Conv3d(1, 5, 5, stride=5, padding=0),\n",
    "    nn.BatchNorm3d(5),\n",
    "    nn.ReLU(inplace=True),\n",
    ")\n",
    "layer2 = nn.Sequential(\n",
    "    nn.Conv3d(5, 3, 3, stride=3, padding=2),\n",
    "    nn.BatchNorm3d(3),\n",
    "    nn.ReLU(inplace=True),\n",
    "    # maxpool reduces to a 4x4x4x3 hypervolume\n",
    "    nn.MaxPool3d(2),\n",
    ")\n",
    "x = layer(loader[[1,2]][0])\n",
    "x = layer2(x)\n",
    "x.shape"
   ]
  },
  {
   "cell_type": "code",
   "execution_count": 61,
   "id": "e81099ea-3db4-483a-b26e-a542b07e990f",
   "metadata": {},
   "outputs": [],
   "source": [
    "# define neural net\n",
    "class austin_net(nn.Module):\n",
    "    \"\"\" \n",
    "    this class implements an extremely simple 3d conv net\n",
    "    inference using .forward()\n",
    "    \"\"\"\n",
    "    def __init__(self):\n",
    "        super(austin_net, self).__init__()\n",
    "        self.conv = nn.Sequential(\n",
    "            # first conv outputs a 1x5x20x20x20 hypervolume\n",
    "            nn.Conv3d(1, 5, 5, stride=5, padding=0),\n",
    "            nn.BatchNorm3d(5),\n",
    "            nn.ReLU(inplace=True),\n",
    "            # 2nd conv conv outputs a 8x8x8x3 hypervolume \n",
    "            nn.Conv3d(5, 3, 3, stride=3, padding=2),\n",
    "            nn.BatchNorm3d(3),\n",
    "            nn.ReLU(inplace=True),\n",
    "            # maxpool reduces to a 4x4x4x3 hypervolume\n",
    "            nn.MaxPool3d(2),\n",
    "        )\n",
    "        self.fc = nn.Sequential (\n",
    "            nn.Linear(192, 512),\n",
    "            nn.Dropout(),\n",
    "            nn.ReLU(inplace=True),\n",
    "            nn.Linear(512, 1)\n",
    "        )\n",
    "    \n",
    "    def forward(self, x):\n",
    "        out_conv1 = self.conv(x)\n",
    "        out_flat = out_conv1.view(-1, 192)\n",
    "        outy = self.fc(out_flat)\n",
    "        \n",
    "        return outy\n",
    "\n",
    "def init_weights(m):\n",
    "    if isinstance(m, nn.Conv3d) or isinstance(m, nn.Linear):\n",
    "        torch.nn.init.xavier_uniform_(m.weight)\n",
    "        if m.bias is not None:\n",
    "            torch.nn.init.zeros_(m.bias)"
   ]
  },
  {
   "cell_type": "code",
   "execution_count": 62,
   "id": "d34f8a96-e1b9-456b-aa11-bdd526c75392",
   "metadata": {},
   "outputs": [
    {
     "data": {
      "text/plain": [
       "tensor([[0.1297]], grad_fn=<AddmmBackward>)"
      ]
     },
     "execution_count": 62,
     "metadata": {},
     "output_type": "execute_result"
    }
   ],
   "source": [
    "model = austin_net()\n",
    "model.forward(loader[0][0])"
   ]
  },
  {
   "cell_type": "code",
   "execution_count": 63,
   "id": "a6bee2f7-6be5-4433-950e-b823e13aba93",
   "metadata": {},
   "outputs": [
    {
     "name": "stdout",
     "output_type": "stream",
     "text": [
      "device: cpu\n"
     ]
    },
    {
     "data": {
      "text/plain": [
       "austin_net(\n",
       "  (conv): Sequential(\n",
       "    (0): Conv3d(1, 5, kernel_size=(5, 5, 5), stride=(5, 5, 5))\n",
       "    (1): BatchNorm3d(5, eps=1e-05, momentum=0.1, affine=True, track_running_stats=True)\n",
       "    (2): ReLU(inplace=True)\n",
       "    (3): Conv3d(5, 3, kernel_size=(3, 3, 3), stride=(3, 3, 3), padding=(2, 2, 2))\n",
       "    (4): BatchNorm3d(3, eps=1e-05, momentum=0.1, affine=True, track_running_stats=True)\n",
       "    (5): ReLU(inplace=True)\n",
       "    (6): MaxPool3d(kernel_size=2, stride=2, padding=0, dilation=1, ceil_mode=False)\n",
       "  )\n",
       "  (fc): Sequential(\n",
       "    (0): Linear(in_features=192, out_features=512, bias=True)\n",
       "    (1): Dropout(p=0.5, inplace=False)\n",
       "    (2): ReLU(inplace=True)\n",
       "    (3): Linear(in_features=512, out_features=1, bias=True)\n",
       "  )\n",
       ")"
      ]
     },
     "execution_count": 63,
     "metadata": {},
     "output_type": "execute_result"
    }
   ],
   "source": [
    "# send model to device if available\n",
    "device = 'cuda' if torch.cuda.is_available() else 'cpu'\n",
    "print(f'device: {device}')\n",
    "\n",
    "# instance a criterion and optimizer \n",
    "criterion = nn.CrossEntropyLoss()\n",
    "optimizer = optim.SGD(model.parameters(), lr=1e-2, momentum=0.8)\n",
    "\n",
    "# inialize weights\n",
    "model.apply(init_weights)\n",
    "\n",
    "model.to(device)"
   ]
  },
  {
   "cell_type": "code",
   "execution_count": 46,
   "id": "fdf12da3-f032-4fc6-8182-9ec8c6541a1e",
   "metadata": {},
   "outputs": [
    {
     "data": {
      "text/plain": [
       "tensor([[0.1275, 0.1275, 0.1275, 0.1275, 0.1275, 0.1275, 0.1275, 0.1275, 0.1275,\n",
       "         0.1275, 0.1275, 0.1275, 0.1589, 0.1589, 0.1589, 0.1589, 0.1275, 0.1275,\n",
       "         0.1275, 0.1275, 0.1275, 0.1279, 0.1275, 0.1275, 0.1275, 1.2521, 3.5860,\n",
       "         0.1275, 0.1589, 4.3155, 2.4296, 0.1589, 0.1275, 0.1275, 0.1276, 0.1275,\n",
       "         0.1275, 2.8150, 0.0000, 0.1275, 0.1275, 6.4556, 6.1753, 0.1275, 0.1589,\n",
       "         2.0883, 6.5583, 0.1589, 0.1366, 0.1366, 0.1366, 0.1366, 0.1275, 0.1275,\n",
       "         0.1275, 0.1275, 0.1275, 1.8375, 0.1298, 0.1275, 0.1589, 0.1589, 0.1589,\n",
       "         0.1589, 0.2165, 0.2165, 0.2165, 0.2165, 0.2165, 0.2165, 0.2165, 0.2165,\n",
       "         0.2165, 0.2165, 0.2165, 0.2165, 0.2548, 0.2548, 0.2548, 0.2548, 0.2165,\n",
       "         0.2165, 0.2165, 0.2165, 0.2165, 0.2171, 0.2165, 0.2165, 0.2165, 2.4848,\n",
       "         7.9245, 0.2165, 0.2548, 0.2548, 0.5428, 0.2548, 0.2165, 0.2165, 0.2165,\n",
       "         0.2165, 0.2165, 2.1089, 3.5586, 0.2165, 0.2165, 1.7481, 6.9195, 0.2165,\n",
       "         0.2548, 0.2548, 3.9593, 0.2548, 0.2165, 0.2165, 0.2165, 0.2165, 0.2165,\n",
       "         0.2305, 0.2165, 0.2165, 0.2165, 0.5161, 0.3823, 0.2165, 0.2548, 0.2548,\n",
       "         0.2548, 0.2548, 0.0895, 0.0895, 0.0895, 0.1167, 0.0895, 0.0895, 0.0895,\n",
       "         0.0895, 0.0895, 0.0895, 0.0895, 0.0895, 0.1204, 0.1204, 0.1204, 0.1204,\n",
       "         0.0895, 0.0895, 0.0895, 0.1167, 0.0895, 0.7643, 0.2727, 0.0895, 0.0895,\n",
       "         0.0896, 3.5282, 0.0900, 0.1204, 0.2121, 1.1699, 0.1204, 0.0895, 0.0895,\n",
       "         0.0895, 0.1167, 0.0895, 3.3340, 0.3547, 0.0895, 0.0895, 5.9280, 8.2145,\n",
       "         0.0895, 0.1204, 0.1204, 7.8088, 0.1204, 0.0895, 0.0895, 0.0895, 0.1167,\n",
       "         0.0895, 0.0949, 0.0895, 0.0895, 0.0895, 1.7524, 0.0896, 0.0895, 0.1282,\n",
       "         0.1282, 0.1282, 0.1282]], grad_fn=<ViewBackward>)"
      ]
     },
     "execution_count": 46,
     "metadata": {},
     "output_type": "execute_result"
    }
   ],
   "source": []
  },
  {
   "cell_type": "code",
   "execution_count": null,
   "id": "1a331b89-79a2-4607-8541-87e70cdba619",
   "metadata": {},
   "outputs": [],
   "source": []
  }
 ],
 "metadata": {
  "kernelspec": {
   "display_name": "Python 3 (ipykernel)",
   "language": "python",
   "name": "python3"
  },
  "language_info": {
   "codemirror_mode": {
    "name": "ipython",
    "version": 3
   },
   "file_extension": ".py",
   "mimetype": "text/x-python",
   "name": "python",
   "nbconvert_exporter": "python",
   "pygments_lexer": "ipython3",
   "version": "3.9.5"
  }
 },
 "nbformat": 4,
 "nbformat_minor": 5
}
