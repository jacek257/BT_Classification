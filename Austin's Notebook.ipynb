{
 "cells": [
  {
   "cell_type": "code",
   "execution_count": 1,
   "id": "959343a3-e8e7-48e7-ad0b-61156739015d",
   "metadata": {},
   "outputs": [],
   "source": [
    "%load_ext autoreload\n",
    "%autoreload 2"
   ]
  },
  {
   "cell_type": "code",
   "execution_count": 16,
   "id": "5e92791a-bc5c-48e0-b178-46bad86897c9",
   "metadata": {},
   "outputs": [],
   "source": [
    "import numpy as np\n",
    "import matplotlib.pyplot as plt\n",
    "import pandas as pd\n",
    "import sys\n",
    "import os\n",
    "import SimpleITK as sitk\n",
    "from tqdm import tqdm\n",
    "from timeit import default_timer as timer\n",
    "from preprocess.itk import *\n",
    "plt.rcParams[\"figure.figsize\"] = (20,5)\n",
    "sitk.ProcessObject_SetGlobalWarningDisplay(False)"
   ]
  },
  {
   "cell_type": "code",
   "execution_count": 17,
   "id": "4c6c6a5c-e8d3-43ea-afc2-3746defee0a9",
   "metadata": {},
   "outputs": [],
   "source": [
    "# get data dir\n",
    "TRAIN_DIR = \"./data/train/\" \n",
    "IMAGE_DIRS = get_dir_dict(TRAIN_DIR)"
   ]
  },
  {
   "cell_type": "code",
   "execution_count": 18,
   "id": "878a3117-ec0c-4f55-b72b-fbd5cb55efcb",
   "metadata": {},
   "outputs": [],
   "source": [
    "def mean_spacings(series_list):\n",
    "    x_dim = []\n",
    "    y_dim = [] \n",
    "    z_dim = []\n",
    "    # sitk read all flair images and rotate\n",
    "    for i in tqdm(series_list):\n",
    "        # read sitk image \n",
    "        image = read_dicom_series(i)\n",
    "        # rotate image\n",
    "        image = rotate_image(image)\n",
    "        # get spacings \n",
    "        sx, sy, sz = image.GetSpacing()\n",
    "\n",
    "        x_dim.append(sx)\n",
    "        y_dim.append(sy)\n",
    "        z_dim.append(sz)\n",
    "    return np.mean(x_dim), np.mean(y_dim), np.mean(z_dim)\n",
    "    "
   ]
  },
  {
   "cell_type": "code",
   "execution_count": 19,
   "id": "77370899-5a9c-4f20-be07-611ae0a7d8bb",
   "metadata": {},
   "outputs": [
    {
     "name": "stderr",
     "output_type": "stream",
     "text": [
      "100%|███████████████████████████████████████| 585/585 [04:05<00:00,  2.38it/s]\n"
     ]
    },
    {
     "data": {
      "text/plain": [
       "(0.7121478558063163, 0.8886607742498911, 2.4320288976061724)"
      ]
     },
     "execution_count": 19,
     "metadata": {},
     "output_type": "execute_result"
    }
   ],
   "source": [
    "mean_spacings(IMAGE_DIRS[\"flair\"])"
   ]
  },
  {
   "cell_type": "code",
   "execution_count": 11,
   "id": "2a413dc0-146a-4d2b-9020-639f95ca46dd",
   "metadata": {},
   "outputs": [
    {
     "name": "stderr",
     "output_type": "stream",
     "text": [
      "100%|███████████████████████████████████████| 585/585 [02:52<00:00,  3.39it/s]\n"
     ]
    },
    {
     "data": {
      "text/plain": [
       "(0.8630510661421857, 0.7675369660980376, 2.631836211367285)"
      ]
     },
     "execution_count": 11,
     "metadata": {},
     "output_type": "execute_result"
    }
   ],
   "source": [
    "mean_spacings(IMAGE_DIRS[\"t1\"])"
   ]
  },
  {
   "cell_type": "code",
   "execution_count": 12,
   "id": "05f041a6-6de6-4004-9a0a-dfdf4eba127e",
   "metadata": {},
   "outputs": [
    {
     "name": "stderr",
     "output_type": "stream",
     "text": [
      "100%|███████████████████████████████████████| 585/585 [03:46<00:00,  2.58it/s]\n"
     ]
    },
    {
     "data": {
      "text/plain": [
       "(0.8768679856749232, 0.884927486136288, 1.7342040534353473)"
      ]
     },
     "execution_count": 12,
     "metadata": {},
     "output_type": "execute_result"
    }
   ],
   "source": [
    "mean_spacings(IMAGE_DIRS[\"t1wce\"])"
   ]
  },
  {
   "cell_type": "code",
   "execution_count": 13,
   "id": "b17588f7-1724-449b-ac02-4fb3fa31b567",
   "metadata": {},
   "outputs": [
    {
     "name": "stderr",
     "output_type": "stream",
     "text": [
      "100%|███████████████████████████████████████| 585/585 [06:04<00:00,  1.60it/s]\n"
     ]
    },
    {
     "data": {
      "text/plain": [
       "(0.6834752597955375, 0.7160193959823881, 2.5539125597552883)"
      ]
     },
     "execution_count": 13,
     "metadata": {},
     "output_type": "execute_result"
    }
   ],
   "source": [
    "mean_spacings(IMAGE_DIRS[\"t2w\"])"
   ]
  },
  {
   "cell_type": "code",
   "execution_count": 21,
   "id": "570b1a5a-0012-42b8-9d87-0003308a9bbe",
   "metadata": {},
   "outputs": [
    {
     "data": {
      "text/plain": [
       "'00494'"
      ]
     },
     "execution_count": 21,
     "metadata": {},
     "output_type": "execute_result"
    }
   ],
   "source": [
    "os.path.basename(os.path.dirname(IMAGE_DIRS[\"flair\"][0]))"
   ]
  },
  {
   "cell_type": "code",
   "execution_count": null,
   "id": "a0c53a29-1886-4e18-ad00-868a75c1cd97",
   "metadata": {},
   "outputs": [],
   "source": []
  }
 ],
 "metadata": {
  "kernelspec": {
   "display_name": "Python 3 (ipykernel)",
   "language": "python",
   "name": "python3"
  },
  "language_info": {
   "codemirror_mode": {
    "name": "ipython",
    "version": 3
   },
   "file_extension": ".py",
   "mimetype": "text/x-python",
   "name": "python",
   "nbconvert_exporter": "python",
   "pygments_lexer": "ipython3",
   "version": "3.9.6"
  }
 },
 "nbformat": 4,
 "nbformat_minor": 5
}
