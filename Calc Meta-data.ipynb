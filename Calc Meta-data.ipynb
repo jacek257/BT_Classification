{
 "cells": [
  {
   "cell_type": "code",
   "execution_count": 1,
   "id": "49676391-4f31-44b0-a36b-7f5998ea9562",
   "metadata": {},
   "outputs": [],
   "source": [
    "%load_ext autoreload\n",
    "%autoreload 2\n",
    "import pandas as pd\n",
    "import matplotlib.pyplot as plt\n",
    "import pydicom\n",
    "import numpy as np\n",
    "import scipy.stats\n",
    "\n",
    "plt.rcParams[\"figure.figsize\"]=(20, 10)"
   ]
  },
  {
   "cell_type": "code",
   "execution_count": 2,
   "id": "ff41597f-ed27-4d79-8717-05291dc2b177",
   "metadata": {},
   "outputs": [
    {
     "data": {
      "text/plain": [
       "Index(['BraTS21ID', 'dataset', 'type', 'dicom_src', 'AccessionNumber',\n",
       "       'AcquisitionMatrix', 'B1rms', 'BitsAllocated', 'BitsStored', 'Columns',\n",
       "       'ConversionType', 'DiffusionBValue', 'DiffusionGradientOrientation',\n",
       "       'EchoNumbers', 'EchoTime', 'EchoTrainLength', 'FlipAngle', 'HighBit',\n",
       "       'HighRRValue', 'ImageDimensions', 'ImageFormat', 'ImageGeometryType',\n",
       "       'ImageLocation', 'ImageOrientation', 'ImageOrientationPatient',\n",
       "       'ImagePosition', 'ImagePositionPatient', 'ImageType', 'ImagedNucleus',\n",
       "       'ImagingFrequency', 'InPlanePhaseEncodingDirection',\n",
       "       'InStackPositionNumber', 'InstanceNumber', 'InversionTime',\n",
       "       'Laterality', 'LowRRValue', 'MRAcquisitionType',\n",
       "       'MagneticFieldStrength', 'Modality', 'NumberOfAverages',\n",
       "       'NumberOfPhaseEncodingSteps', 'PatientID', 'PatientName',\n",
       "       'PatientPosition', 'PercentPhaseFieldOfView', 'PercentSampling',\n",
       "       'PhotometricInterpretation', 'PixelBandwidth', 'PixelPaddingValue',\n",
       "       'PixelRepresentation', 'PixelSpacing', 'PlanarConfiguration',\n",
       "       'PositionReferenceIndicator', 'PresentationLUTShape',\n",
       "       'ReconstructionDiameter', 'RescaleIntercept', 'RescaleSlope',\n",
       "       'RescaleType', 'Rows', 'SAR', 'SOPClassUID', 'SOPInstanceUID',\n",
       "       'SamplesPerPixel', 'SeriesDescription', 'SeriesInstanceUID',\n",
       "       'SeriesNumber', 'SliceLocation', 'SliceThickness',\n",
       "       'SpacingBetweenSlices', 'SpatialResolution', 'SpecificCharacterSet',\n",
       "       'StudyInstanceUID', 'TemporalResolution', 'TransferSyntaxUID',\n",
       "       'TriggerWindow', 'WindowCenter', 'WindowWidth',\n",
       "       'FileMetaInformationGroupLength', 'FileMetaInformationVersion',\n",
       "       'ImplementationClassUID', 'ImplementationVersionName',\n",
       "       'MediaStorageSOPClassUID', 'MediaStorageSOPInstanceUID',\n",
       "       'SourceApplicationEntityTitle', 'is_original_encoding',\n",
       "       'is_implicit_VR', 'is_little_endian', 'timestamp'],\n",
       "      dtype='object')"
      ]
     },
     "execution_count": 2,
     "metadata": {},
     "output_type": "execute_result"
    }
   ],
   "source": [
    "df = pd.read_pickle('/home/maltesepoodle/datasets/rsna/dicom_meta_train.pickle')\n",
    "# drop columns with missing data\n",
    "# df.dropna(axis=1, inplace=True)\n",
    "df.head()\n",
    "df.columns"
   ]
  },
  {
   "cell_type": "code",
   "execution_count": 3,
   "id": "0474a2a9-9f4d-4a90-a71e-b9c5fe22664b",
   "metadata": {},
   "outputs": [
    {
     "data": {
      "text/html": [
       "<div>\n",
       "<style scoped>\n",
       "    .dataframe tbody tr th:only-of-type {\n",
       "        vertical-align: middle;\n",
       "    }\n",
       "\n",
       "    .dataframe tbody tr th {\n",
       "        vertical-align: top;\n",
       "    }\n",
       "\n",
       "    .dataframe thead th {\n",
       "        text-align: right;\n",
       "    }\n",
       "</style>\n",
       "<table border=\"1\" class=\"dataframe\">\n",
       "  <thead>\n",
       "    <tr style=\"text-align: right;\">\n",
       "      <th></th>\n",
       "      <th>BraTS21ID</th>\n",
       "      <th>type</th>\n",
       "      <th>PercentPhaseFieldOfView</th>\n",
       "      <th>AcquisitionMatrix</th>\n",
       "      <th>EchoTime</th>\n",
       "      <th>InversionTime</th>\n",
       "      <th>PixelSpacing</th>\n",
       "      <th>ImageOrientationPatient</th>\n",
       "    </tr>\n",
       "  </thead>\n",
       "  <tbody>\n",
       "    <tr>\n",
       "      <th>0</th>\n",
       "      <td>00494</td>\n",
       "      <td>T1w</td>\n",
       "      <td>90.0</td>\n",
       "      <td>[0, 256, 256, 0]</td>\n",
       "      <td>None</td>\n",
       "      <td>None</td>\n",
       "      <td>[1, 1]</td>\n",
       "      <td>[0.99821, 0.05832, -0.01312, -0.05974, 0.96542...</td>\n",
       "    </tr>\n",
       "    <tr>\n",
       "      <th>1</th>\n",
       "      <td>00494</td>\n",
       "      <td>T1w</td>\n",
       "      <td>90.0</td>\n",
       "      <td>[0, 256, 256, 0]</td>\n",
       "      <td>None</td>\n",
       "      <td>None</td>\n",
       "      <td>[1, 1]</td>\n",
       "      <td>[0.99821, 0.05832, -0.01312, -0.05974, 0.96542...</td>\n",
       "    </tr>\n",
       "    <tr>\n",
       "      <th>2</th>\n",
       "      <td>00494</td>\n",
       "      <td>T1w</td>\n",
       "      <td>90.0</td>\n",
       "      <td>[0, 256, 256, 0]</td>\n",
       "      <td>None</td>\n",
       "      <td>None</td>\n",
       "      <td>[1, 1]</td>\n",
       "      <td>[0.99821, 0.05832, -0.01312, -0.05974, 0.96542...</td>\n",
       "    </tr>\n",
       "    <tr>\n",
       "      <th>3</th>\n",
       "      <td>00494</td>\n",
       "      <td>T1w</td>\n",
       "      <td>90.0</td>\n",
       "      <td>[0, 256, 256, 0]</td>\n",
       "      <td>None</td>\n",
       "      <td>None</td>\n",
       "      <td>[1, 1]</td>\n",
       "      <td>[0.99821, 0.05832, -0.01312, -0.05974, 0.96542...</td>\n",
       "    </tr>\n",
       "    <tr>\n",
       "      <th>4</th>\n",
       "      <td>00494</td>\n",
       "      <td>T1w</td>\n",
       "      <td>90.0</td>\n",
       "      <td>[0, 256, 256, 0]</td>\n",
       "      <td>None</td>\n",
       "      <td>None</td>\n",
       "      <td>[1, 1]</td>\n",
       "      <td>[0.99821, 0.05832, -0.01312, -0.05974, 0.96542...</td>\n",
       "    </tr>\n",
       "  </tbody>\n",
       "</table>\n",
       "</div>"
      ],
      "text/plain": [
       "  BraTS21ID type  PercentPhaseFieldOfView AcquisitionMatrix EchoTime  \\\n",
       "0     00494  T1w                     90.0  [0, 256, 256, 0]     None   \n",
       "1     00494  T1w                     90.0  [0, 256, 256, 0]     None   \n",
       "2     00494  T1w                     90.0  [0, 256, 256, 0]     None   \n",
       "3     00494  T1w                     90.0  [0, 256, 256, 0]     None   \n",
       "4     00494  T1w                     90.0  [0, 256, 256, 0]     None   \n",
       "\n",
       "  InversionTime PixelSpacing  \\\n",
       "0          None       [1, 1]   \n",
       "1          None       [1, 1]   \n",
       "2          None       [1, 1]   \n",
       "3          None       [1, 1]   \n",
       "4          None       [1, 1]   \n",
       "\n",
       "                             ImageOrientationPatient  \n",
       "0  [0.99821, 0.05832, -0.01312, -0.05974, 0.96542...  \n",
       "1  [0.99821, 0.05832, -0.01312, -0.05974, 0.96542...  \n",
       "2  [0.99821, 0.05832, -0.01312, -0.05974, 0.96542...  \n",
       "3  [0.99821, 0.05832, -0.01312, -0.05974, 0.96542...  \n",
       "4  [0.99821, 0.05832, -0.01312, -0.05974, 0.96542...  "
      ]
     },
     "execution_count": 3,
     "metadata": {},
     "output_type": "execute_result"
    }
   ],
   "source": [
    "sdf = df[[\"BraTS21ID\", \"type\", \"PercentPhaseFieldOfView\", \"AcquisitionMatrix\", \"EchoTime\", \"InversionTime\", \"PixelSpacing\", \"ImageOrientationPatient\"]]\n",
    "sdf.head()"
   ]
  },
  {
   "cell_type": "code",
   "execution_count": 4,
   "id": "db7a739c-a58a-40ee-bcfe-cfdd466034be",
   "metadata": {},
   "outputs": [
    {
     "name": "stderr",
     "output_type": "stream",
     "text": [
      "/home/maltesepoodle/anaconda3/envs/rsna/lib/python3.9/site-packages/pandas/core/frame.py:3607: SettingWithCopyWarning: \n",
      "A value is trying to be set on a copy of a slice from a DataFrame.\n",
      "Try using .loc[row_indexer,col_indexer] = value instead\n",
      "\n",
      "See the caveats in the documentation: https://pandas.pydata.org/pandas-docs/stable/user_guide/indexing.html#returning-a-view-versus-a-copy\n",
      "  self._set_item(key, value)\n"
     ]
    }
   ],
   "source": [
    "# get in plane prescription \n",
    "def det_orientation(v):\n",
    "    \"\"\" \n",
    "    converts real-valued patient orientation tuple to a textual orientation label\n",
    "    \n",
    "    scraped and modified from this discussion: \n",
    "    https://www.kaggle.com/davidbroberts/determining-mr-image-planes/notebook?fbclid=IwAR3K2h5vcGrt1EZqV23ZyhKwgGa3-k12wL976AdZyW8VG5LMeyyZk4Z1t14\n",
    "    \"\"\"\n",
    "    v = np.round(v).astype(int)\n",
    "    row_x = v[0]\n",
    "    row_y = v[1]\n",
    "    col_x = v[3]\n",
    "    col_y = v[4]\n",
    "    \n",
    "    if row_x == 1 and row_y == 0 and col_x == 0 and col_y == 0:\n",
    "        return \"Coronal\"\n",
    "\n",
    "    if row_x == 0 and row_y == 1 and col_x == 0 and col_y == 0:\n",
    "        return \"Sagittal\"\n",
    "\n",
    "    if row_x == 1 and row_y == 0 and col_x == 0 and col_y == 1:\n",
    "        return \"Axial\"\n",
    "\n",
    "    return \"Unknown\"\n",
    "\n",
    "sdf[\"Orientation\"] = sdf[\"ImageOrientationPatient\"].apply(det_orientation)\n",
    "\n",
    "# calculate number of slices\n",
    "def det_slices(df):\n",
    "    try:\n",
    "        return df[\"InversionTime\"]/df[\"EchoTime\"]\n",
    "    except: \n",
    "        return None\n",
    "sdf[\"Slices\"] = sdf[\"InversionTime\"]/sdf[\"EchoTime\"]\n",
    "\n",
    "# get matrix sizes\n",
    "def get_sizes(x):\n",
    "    try:\n",
    "        return x[1]*x[2]\n",
    "    except:\n",
    "        return None\n",
    "\n",
    "\n",
    "matrix_size = sdf[\"AcquisitionMatrix\"].apply(get_sizes)\n",
    "sdf[\"pixelSize\"] = sdf[\"PercentPhaseFieldOfView\"]/matrix_size\n",
    "sdf[\"pixelSize\"].replace(np.inf, None, inplace=True)\n",
    "\n"
   ]
  },
  {
   "cell_type": "code",
   "execution_count": 5,
   "id": "cbf070c9-3627-4828-98c6-5682bbbe89d5",
   "metadata": {},
   "outputs": [],
   "source": [
    "#split frames\n",
    "flair_df = sdf[sdf[\"type\"] == \"FLAIR\"]\n",
    "T1w_df = sdf[sdf[\"type\"] == \"T1w\"]\n",
    "T2w_df = sdf[sdf[\"type\"] == \"T2w\"]\n",
    "T1wCE_df = sdf[sdf[\"type\"] == \"T1wCE\"]"
   ]
  },
  {
   "cell_type": "code",
   "execution_count": 6,
   "id": "7c596ef1-b770-4130-a341-0e0d7a0b31cc",
   "metadata": {},
   "outputs": [
    {
     "data": {
      "text/plain": [
       "Index(['BraTS21ID', 'type', 'PercentPhaseFieldOfView', 'AcquisitionMatrix',\n",
       "       'EchoTime', 'InversionTime', 'PixelSpacing', 'ImageOrientationPatient',\n",
       "       'Orientation', 'Slices', 'pixelSize'],\n",
       "      dtype='object')"
      ]
     },
     "execution_count": 6,
     "metadata": {},
     "output_type": "execute_result"
    }
   ],
   "source": [
    "sdf.columns"
   ]
  },
  {
   "cell_type": "code",
   "execution_count": 7,
   "id": "838ca0fa-f2a6-4638-90ca-b90c66724989",
   "metadata": {},
   "outputs": [],
   "source": [
    "def get_size_tuple(x): \n",
    "    try:\n",
    "        return (x[1], x[2])\n",
    "    except:\n",
    "        return None\n",
    "    \n",
    "def get_plots(df):\n",
    "    fig, axs = plt.subplots(2,2)\n",
    "    axs[0,0].hist(df[\"pixelSize\"].dropna(axis=0))\n",
    "    axs[0,0].set_title(\"Pixel Size\")\n",
    "    # get number of pix size nans dropped\n",
    "    nans_pix_size = len(df[\"pixelSize\"]) - len(df[\"pixelSize\"].dropna(axis=0))\n",
    "    \n",
    "    axs[0,1].scatter(\n",
    "        df[\"PixelSpacing\"].apply(lambda x: x[0]),\n",
    "        df[\"PixelSpacing\"].apply(lambda x: x[1])\n",
    "    )\n",
    "    axs[0,1].set_title(\"Pixel Spacing\")\n",
    "    \n",
    "    ori_counts = [\n",
    "        len(df[df[\"Orientation\"] == \"Axial\"]),\n",
    "        len(df[df[\"Orientation\"] == \"Coronal\"]),\n",
    "        len(df[df[\"Orientation\"] == \"Sagittal\"]),\n",
    "        len(df[df[\"Orientation\"] == \"Unknown\"])\n",
    "    ]\n",
    "    axs[1,0].bar(\n",
    "        [\"Axial\", \"Coronal\", \"Sagittal\", \"Unknown\"],\n",
    "        ori_counts\n",
    "    )\n",
    "    axs[1,0].set_title(\"Slicing Plane\")\n",
    "    matrix_tuples = df[\"AcquisitionMatrix\"].apply(get_size_tuple).dropna(axis=0)\n",
    "    matrix_x = [x[0] for x in matrix_tuples]\n",
    "    matrix_y = [x[1] for x in matrix_tuples]\n",
    "    axs[1,1].scatter(\n",
    "        matrix_x,\n",
    "        matrix_y\n",
    "    )\n",
    "    axs[1,1].set_title(\"Matrix Size\")\n",
    "    # get number of matrix size nans dropped \n",
    "    nans_matrix_size = len(df[\"AcquisitionMatrix\"].apply(get_sizes)) - \\\n",
    "        len(df[\"AcquisitionMatrix\"].apply(get_sizes).dropna(axis=0))\n",
    "    return {\"pixel size nans\": nans_pix_size, \"matrix size nans\": nans_matrix_size}"
   ]
  },
  {
   "cell_type": "code",
   "execution_count": 8,
   "id": "9fecf0d3-3a57-43cb-a5de-78a4e2f23ed5",
   "metadata": {},
   "outputs": [
    {
     "data": {
      "text/plain": [
       "{'pixel size nans': 1152, 'matrix size nans': 1152}"
      ]
     },
     "execution_count": 8,
     "metadata": {},
     "output_type": "execute_result"
    },
    {
     "data": {
      "image/png": "[encoded data removed]",
      "text/plain": [
       "<Figure size 1440x720 with 4 Axes>"
      ]
     },
     "metadata": {
      "needs_background": "light"
     },
     "output_type": "display_data"
    }
   ],
   "source": [
    "get_plots(flair_df)"
   ]
  },
  {
   "cell_type": "code",
   "execution_count": 9,
   "id": "7520bfa1-737f-466d-9f5c-81f98c16f44c",
   "metadata": {},
   "outputs": [
    {
     "data": {
      "text/plain": [
       "{'pixel size nans': 0, 'matrix size nans': 0}"
      ]
     },
     "execution_count": 9,
     "metadata": {},
     "output_type": "execute_result"
    },
    {
     "data": {
      "image/png": "[encoded data removed]",
      "text/plain": [
       "<Figure size 1440x720 with 4 Axes>"
      ]
     },
     "metadata": {
      "needs_background": "light"
     },
     "output_type": "display_data"
    }
   ],
   "source": [
    "get_plots(T1w_df)"
   ]
  },
  {
   "cell_type": "code",
   "execution_count": 10,
   "id": "ec41b504-41ae-46e8-95e6-88282e66e9cd",
   "metadata": {},
   "outputs": [
    {
     "data": {
      "text/plain": [
       "{'pixel size nans': 62, 'matrix size nans': 62}"
      ]
     },
     "execution_count": 10,
     "metadata": {},
     "output_type": "execute_result"
    },
    {
     "data": {
      "image/png": "[encoded data removed]",
      "text/plain": [
       "<Figure size 1440x720 with 4 Axes>"
      ]
     },
     "metadata": {
      "needs_background": "light"
     },
     "output_type": "display_data"
    }
   ],
   "source": [
    "get_plots(T1wCE_df)"
   ]
  },
  {
   "cell_type": "code",
   "execution_count": 11,
   "id": "ca90fd5c-447c-46be-8664-91b1a56e31ee",
   "metadata": {},
   "outputs": [
    {
     "data": {
      "text/plain": [
       "{'pixel size nans': 188, 'matrix size nans': 188}"
      ]
     },
     "execution_count": 11,
     "metadata": {},
     "output_type": "execute_result"
    },
    {
     "data": {
      "image/png": "[encoded data removed]",
      "text/plain": [
       "<Figure size 1440x720 with 4 Axes>"
      ]
     },
     "metadata": {
      "needs_background": "light"
     },
     "output_type": "display_data"
    }
   ],
   "source": [
    "get_plots(T2w_df)"
   ]
  },
  {
   "cell_type": "code",
   "execution_count": 12,
   "id": "f1d348fc-441c-4da5-86a3-b62969f49e70",
   "metadata": {},
   "outputs": [],
   "source": [
    "def generate_nan_list(df, fname):\n",
    "    list = df[df.isna().any(axis=1)].drop_duplicates(subset=\"BraTS21ID\")\n",
    "    list[\"BraTS21ID\"].to_csv(fname, index=False)"
   ]
  },
  {
   "cell_type": "code",
   "execution_count": 13,
   "id": "46bf3073-ef8f-4182-8c61-df502620f017",
   "metadata": {},
   "outputs": [],
   "source": [
    "generate_nan_list(flair_df, \"./nan_flair.csv\")\n",
    "generate_nan_list(T1w_df, \"./nan_t1.csv\")\n",
    "generate_nan_list(T1wCE_df, \"./nan_t1wce.csv\")\n",
    "generate_nan_list(T2w_df, \"./nan_t2.csv\")"
   ]
  },
  {
   "cell_type": "code",
   "execution_count": 14,
   "id": "93ef1e2f-9076-4569-a090-83f326a7b641",
   "metadata": {},
   "outputs": [
    {
     "data": {
      "text/plain": [
       "0        NaN\n",
       "1        NaN\n",
       "2        NaN\n",
       "3        NaN\n",
       "4        NaN\n",
       "          ..\n",
       "348636   NaN\n",
       "348637   NaN\n",
       "348638   NaN\n",
       "348639   NaN\n",
       "348640   NaN\n",
       "Name: ImageLocation, Length: 348641, dtype: float64"
      ]
     },
     "execution_count": 14,
     "metadata": {},
     "output_type": "execute_result"
    }
   ],
   "source": [
    "df[\"ImageLocation\"]"
   ]
  },
  {
   "cell_type": "code",
   "execution_count": 18,
   "id": "378c4775-f3d9-493c-a87a-985721e5d84d",
   "metadata": {},
   "outputs": [
    {
     "data": {
      "text/html": [
       "<div>\n",
       "<style scoped>\n",
       "    .dataframe tbody tr th:only-of-type {\n",
       "        vertical-align: middle;\n",
       "    }\n",
       "\n",
       "    .dataframe tbody tr th {\n",
       "        vertical-align: top;\n",
       "    }\n",
       "\n",
       "    .dataframe thead th {\n",
       "        text-align: right;\n",
       "    }\n",
       "</style>\n",
       "<table border=\"1\" class=\"dataframe\">\n",
       "  <thead>\n",
       "    <tr style=\"text-align: right;\">\n",
       "      <th></th>\n",
       "      <th>BraTS21ID</th>\n",
       "      <th>type</th>\n",
       "      <th>PercentPhaseFieldOfView</th>\n",
       "      <th>AcquisitionMatrix</th>\n",
       "      <th>EchoTime</th>\n",
       "      <th>InversionTime</th>\n",
       "      <th>PixelSpacing</th>\n",
       "      <th>ImageOrientationPatient</th>\n",
       "      <th>Orientation</th>\n",
       "      <th>Slices</th>\n",
       "      <th>pixelSize</th>\n",
       "    </tr>\n",
       "  </thead>\n",
       "  <tbody>\n",
       "    <tr>\n",
       "      <th>0</th>\n",
       "      <td>00494</td>\n",
       "      <td>T1w</td>\n",
       "      <td>90.00</td>\n",
       "      <td>[0, 256, 256, 0]</td>\n",
       "      <td>None</td>\n",
       "      <td>None</td>\n",
       "      <td>[1, 1]</td>\n",
       "      <td>[0.99821, 0.05832, -0.01312, -0.05974, 0.96542...</td>\n",
       "      <td>Axial</td>\n",
       "      <td>NaN</td>\n",
       "      <td>0.001373</td>\n",
       "    </tr>\n",
       "    <tr>\n",
       "      <th>1005</th>\n",
       "      <td>00441</td>\n",
       "      <td>T1w</td>\n",
       "      <td>81.25</td>\n",
       "      <td>[0, 256, 166, 0]</td>\n",
       "      <td>None</td>\n",
       "      <td>None</td>\n",
       "      <td>[0.8984375, 0.8984375]</td>\n",
       "      <td>[1, -2.017339e-10, -3.70251e-11, 2.051034e-10,...</td>\n",
       "      <td>Axial</td>\n",
       "      <td>NaN</td>\n",
       "      <td>0.001912</td>\n",
       "    </tr>\n",
       "    <tr>\n",
       "      <th>1136</th>\n",
       "      <td>00661</td>\n",
       "      <td>T1w</td>\n",
       "      <td>80.00</td>\n",
       "      <td>[0, 256, 256, 0]</td>\n",
       "      <td>None</td>\n",
       "      <td>None</td>\n",
       "      <td>[1, 1]</td>\n",
       "      <td>[1, -0, 0, -0, 1, 0]</td>\n",
       "      <td>Axial</td>\n",
       "      <td>NaN</td>\n",
       "      <td>0.001221</td>\n",
       "    </tr>\n",
       "    <tr>\n",
       "      <th>2071</th>\n",
       "      <td>00426</td>\n",
       "      <td>T1w</td>\n",
       "      <td>75.00</td>\n",
       "      <td>[0, 256, 192, 0]</td>\n",
       "      <td>None</td>\n",
       "      <td>None</td>\n",
       "      <td>[0.9765625, 0.9765625]</td>\n",
       "      <td>[0.9999984769134, -0.0017453283007, 0, 0.00174...</td>\n",
       "      <td>Axial</td>\n",
       "      <td>NaN</td>\n",
       "      <td>0.001526</td>\n",
       "    </tr>\n",
       "    <tr>\n",
       "      <th>2580</th>\n",
       "      <td>00035</td>\n",
       "      <td>T1w</td>\n",
       "      <td>75.00</td>\n",
       "      <td>[0, 256, 160, 0]</td>\n",
       "      <td>None</td>\n",
       "      <td>None</td>\n",
       "      <td>[0.468800008296967, 0.468800008296967]</td>\n",
       "      <td>[1, -0, 0, -0, 0.999334, 0.036489]</td>\n",
       "      <td>Axial</td>\n",
       "      <td>NaN</td>\n",
       "      <td>0.001831</td>\n",
       "    </tr>\n",
       "    <tr>\n",
       "      <th>...</th>\n",
       "      <td>...</td>\n",
       "      <td>...</td>\n",
       "      <td>...</td>\n",
       "      <td>...</td>\n",
       "      <td>...</td>\n",
       "      <td>...</td>\n",
       "      <td>...</td>\n",
       "      <td>...</td>\n",
       "      <td>...</td>\n",
       "      <td>...</td>\n",
       "      <td>...</td>\n",
       "    </tr>\n",
       "    <tr>\n",
       "      <th>346813</th>\n",
       "      <td>01009</td>\n",
       "      <td>T1w</td>\n",
       "      <td>75.00</td>\n",
       "      <td>[0, 320, 224, 0]</td>\n",
       "      <td>None</td>\n",
       "      <td>None</td>\n",
       "      <td>[0.46875, 0.46875]</td>\n",
       "      <td>[1, -0, 0, -0, 1, 0]</td>\n",
       "      <td>Axial</td>\n",
       "      <td>NaN</td>\n",
       "      <td>0.001046</td>\n",
       "    </tr>\n",
       "    <tr>\n",
       "      <th>346905</th>\n",
       "      <td>00139</td>\n",
       "      <td>T1w</td>\n",
       "      <td>100.00</td>\n",
       "      <td>[0, 256, 128, 0]</td>\n",
       "      <td>None</td>\n",
       "      <td>None</td>\n",
       "      <td>[0.78125, 0.78125]</td>\n",
       "      <td>[1, 0, 0, 0, 1, 0]</td>\n",
       "      <td>Axial</td>\n",
       "      <td>NaN</td>\n",
       "      <td>0.003052</td>\n",
       "    </tr>\n",
       "    <tr>\n",
       "      <th>346997</th>\n",
       "      <td>00667</td>\n",
       "      <td>T1w</td>\n",
       "      <td>80.00</td>\n",
       "      <td>[0, 256, 256, 0]</td>\n",
       "      <td>None</td>\n",
       "      <td>None</td>\n",
       "      <td>[1, 1]</td>\n",
       "      <td>[0.99995, -0.01017, 0, 0.01009, 0.99218, -0.12...</td>\n",
       "      <td>Axial</td>\n",
       "      <td>NaN</td>\n",
       "      <td>0.001221</td>\n",
       "    </tr>\n",
       "    <tr>\n",
       "      <th>347975</th>\n",
       "      <td>00419</td>\n",
       "      <td>T1w</td>\n",
       "      <td>75.00</td>\n",
       "      <td>[0, 256, 192, 0]</td>\n",
       "      <td>None</td>\n",
       "      <td>None</td>\n",
       "      <td>[0.9765625, 0.9765625]</td>\n",
       "      <td>[0.9999984769134, -0.0017453283007, 0, 0.00174...</td>\n",
       "      <td>Axial</td>\n",
       "      <td>NaN</td>\n",
       "      <td>0.001526</td>\n",
       "    </tr>\n",
       "    <tr>\n",
       "      <th>348485</th>\n",
       "      <td>00836</td>\n",
       "      <td>T1w</td>\n",
       "      <td>81.25</td>\n",
       "      <td>[0, 256, 208, 0]</td>\n",
       "      <td>None</td>\n",
       "      <td>None</td>\n",
       "      <td>[0.4296875, 0.4296875]</td>\n",
       "      <td>[0.996656490193, -0.0254784542087, 0.077631752...</td>\n",
       "      <td>Axial</td>\n",
       "      <td>NaN</td>\n",
       "      <td>0.001526</td>\n",
       "    </tr>\n",
       "  </tbody>\n",
       "</table>\n",
       "<p>567 rows × 11 columns</p>\n",
       "</div>"
      ],
      "text/plain": [
       "       BraTS21ID type  PercentPhaseFieldOfView AcquisitionMatrix EchoTime  \\\n",
       "0          00494  T1w                    90.00  [0, 256, 256, 0]     None   \n",
       "1005       00441  T1w                    81.25  [0, 256, 166, 0]     None   \n",
       "1136       00661  T1w                    80.00  [0, 256, 256, 0]     None   \n",
       "2071       00426  T1w                    75.00  [0, 256, 192, 0]     None   \n",
       "2580       00035  T1w                    75.00  [0, 256, 160, 0]     None   \n",
       "...          ...  ...                      ...               ...      ...   \n",
       "346813     01009  T1w                    75.00  [0, 320, 224, 0]     None   \n",
       "346905     00139  T1w                   100.00  [0, 256, 128, 0]     None   \n",
       "346997     00667  T1w                    80.00  [0, 256, 256, 0]     None   \n",
       "347975     00419  T1w                    75.00  [0, 256, 192, 0]     None   \n",
       "348485     00836  T1w                    81.25  [0, 256, 208, 0]     None   \n",
       "\n",
       "       InversionTime                            PixelSpacing  \\\n",
       "0               None                                  [1, 1]   \n",
       "1005            None                  [0.8984375, 0.8984375]   \n",
       "1136            None                                  [1, 1]   \n",
       "2071            None                  [0.9765625, 0.9765625]   \n",
       "2580            None  [0.468800008296967, 0.468800008296967]   \n",
       "...              ...                                     ...   \n",
       "346813          None                      [0.46875, 0.46875]   \n",
       "346905          None                      [0.78125, 0.78125]   \n",
       "346997          None                                  [1, 1]   \n",
       "347975          None                  [0.9765625, 0.9765625]   \n",
       "348485          None                  [0.4296875, 0.4296875]   \n",
       "\n",
       "                                  ImageOrientationPatient Orientation Slices  \\\n",
       "0       [0.99821, 0.05832, -0.01312, -0.05974, 0.96542...       Axial    NaN   \n",
       "1005    [1, -2.017339e-10, -3.70251e-11, 2.051034e-10,...       Axial    NaN   \n",
       "1136                                 [1, -0, 0, -0, 1, 0]       Axial    NaN   \n",
       "2071    [0.9999984769134, -0.0017453283007, 0, 0.00174...       Axial    NaN   \n",
       "2580                   [1, -0, 0, -0, 0.999334, 0.036489]       Axial    NaN   \n",
       "...                                                   ...         ...    ...   \n",
       "346813                               [1, -0, 0, -0, 1, 0]       Axial    NaN   \n",
       "346905                                 [1, 0, 0, 0, 1, 0]       Axial    NaN   \n",
       "346997  [0.99995, -0.01017, 0, 0.01009, 0.99218, -0.12...       Axial    NaN   \n",
       "347975  [0.9999984769134, -0.0017453283007, 0, 0.00174...       Axial    NaN   \n",
       "348485  [0.996656490193, -0.0254784542087, 0.077631752...       Axial    NaN   \n",
       "\n",
       "        pixelSize  \n",
       "0        0.001373  \n",
       "1005     0.001912  \n",
       "1136     0.001221  \n",
       "2071     0.001526  \n",
       "2580     0.001831  \n",
       "...           ...  \n",
       "346813   0.001046  \n",
       "346905   0.003052  \n",
       "346997   0.001221  \n",
       "347975   0.001526  \n",
       "348485   0.001526  \n",
       "\n",
       "[567 rows x 11 columns]"
      ]
     },
     "execution_count": 18,
     "metadata": {},
     "output_type": "execute_result"
    }
   ],
   "source": [
    "T1w_df[T1w_df[\"Orientation\"] == \"Axial\"].drop_duplicates(subset=[\"BraTS21ID\", \"type\", \"Orientation\"])"
   ]
  },
  {
   "cell_type": "code",
   "execution_count": 17,
   "id": "8220827b-2a59-4260-ae76-6c41ef90ffb2",
   "metadata": {},
   "outputs": [
    {
     "data": {
      "text/html": [
       "<div>\n",
       "<style scoped>\n",
       "    .dataframe tbody tr th:only-of-type {\n",
       "        vertical-align: middle;\n",
       "    }\n",
       "\n",
       "    .dataframe tbody tr th {\n",
       "        vertical-align: top;\n",
       "    }\n",
       "\n",
       "    .dataframe thead th {\n",
       "        text-align: right;\n",
       "    }\n",
       "</style>\n",
       "<table border=\"1\" class=\"dataframe\">\n",
       "  <thead>\n",
       "    <tr style=\"text-align: right;\">\n",
       "      <th></th>\n",
       "      <th>BraTS21ID</th>\n",
       "      <th>type</th>\n",
       "      <th>PercentPhaseFieldOfView</th>\n",
       "      <th>AcquisitionMatrix</th>\n",
       "      <th>EchoTime</th>\n",
       "      <th>InversionTime</th>\n",
       "      <th>PixelSpacing</th>\n",
       "      <th>ImageOrientationPatient</th>\n",
       "      <th>Orientation</th>\n",
       "      <th>Slices</th>\n",
       "      <th>pixelSize</th>\n",
       "    </tr>\n",
       "  </thead>\n",
       "  <tbody>\n",
       "    <tr>\n",
       "      <th>210893</th>\n",
       "      <td>00009</td>\n",
       "      <td>T1w</td>\n",
       "      <td>80.0</td>\n",
       "      <td>[0, 288, 192, 0]</td>\n",
       "      <td>None</td>\n",
       "      <td>None</td>\n",
       "      <td>[0.468800008296967, 0.468800008296967]</td>\n",
       "      <td>[0.99814, 0.00881767, 0.0603217, -0.0288989, 0...</td>\n",
       "      <td>Axial</td>\n",
       "      <td>NaN</td>\n",
       "      <td>0.001447</td>\n",
       "    </tr>\n",
       "    <tr>\n",
       "      <th>210926</th>\n",
       "      <td>00009</td>\n",
       "      <td>T2w</td>\n",
       "      <td>90.0</td>\n",
       "      <td>[0, 256, 256, 0]</td>\n",
       "      <td>None</td>\n",
       "      <td>None</td>\n",
       "      <td>[0.5, 0.5]</td>\n",
       "      <td>[-0, 1, 0, -0, -0, -1]</td>\n",
       "      <td>Sagittal</td>\n",
       "      <td>NaN</td>\n",
       "      <td>0.001373</td>\n",
       "    </tr>\n",
       "    <tr>\n",
       "      <th>211214</th>\n",
       "      <td>00009</td>\n",
       "      <td>FLAIR</td>\n",
       "      <td>90.0</td>\n",
       "      <td>[0, 256, 256, 0]</td>\n",
       "      <td>None</td>\n",
       "      <td>None</td>\n",
       "      <td>[0.5, 0.5]</td>\n",
       "      <td>[-0.00459128, 0.999989, -0.000999928, 0.058831...</td>\n",
       "      <td>Sagittal</td>\n",
       "      <td>NaN</td>\n",
       "      <td>0.001373</td>\n",
       "    </tr>\n",
       "    <tr>\n",
       "      <th>211454</th>\n",
       "      <td>00009</td>\n",
       "      <td>T1wCE</td>\n",
       "      <td>85.0</td>\n",
       "      <td>[0, 256, 256, 0]</td>\n",
       "      <td>None</td>\n",
       "      <td>None</td>\n",
       "      <td>[0.5, 0.5]</td>\n",
       "      <td>[0.999289, 0.0301175, 0.0226631, 0.0195427, 0....</td>\n",
       "      <td>Coronal</td>\n",
       "      <td>NaN</td>\n",
       "      <td>0.001297</td>\n",
       "    </tr>\n",
       "  </tbody>\n",
       "</table>\n",
       "</div>"
      ],
      "text/plain": [
       "       BraTS21ID   type  PercentPhaseFieldOfView AcquisitionMatrix EchoTime  \\\n",
       "210893     00009    T1w                     80.0  [0, 288, 192, 0]     None   \n",
       "210926     00009    T2w                     90.0  [0, 256, 256, 0]     None   \n",
       "211214     00009  FLAIR                     90.0  [0, 256, 256, 0]     None   \n",
       "211454     00009  T1wCE                     85.0  [0, 256, 256, 0]     None   \n",
       "\n",
       "       InversionTime                            PixelSpacing  \\\n",
       "210893          None  [0.468800008296967, 0.468800008296967]   \n",
       "210926          None                              [0.5, 0.5]   \n",
       "211214          None                              [0.5, 0.5]   \n",
       "211454          None                              [0.5, 0.5]   \n",
       "\n",
       "                                  ImageOrientationPatient Orientation Slices  \\\n",
       "210893  [0.99814, 0.00881767, 0.0603217, -0.0288989, 0...       Axial    NaN   \n",
       "210926                             [-0, 1, 0, -0, -0, -1]    Sagittal    NaN   \n",
       "211214  [-0.00459128, 0.999989, -0.000999928, 0.058831...    Sagittal    NaN   \n",
       "211454  [0.999289, 0.0301175, 0.0226631, 0.0195427, 0....     Coronal    NaN   \n",
       "\n",
       "        pixelSize  \n",
       "210893   0.001447  \n",
       "210926   0.001373  \n",
       "211214   0.001373  \n",
       "211454   0.001297  "
      ]
     },
     "execution_count": 17,
     "metadata": {},
     "output_type": "execute_result"
    }
   ],
   "source": [
    "sdf[sdf[\"BraTS21ID\"] == \"00009\"].drop_duplicates(subset=[\"BraTS21ID\", \"type\", \"Orientation\"])"
   ]
  },
  {
   "cell_type": "code",
   "execution_count": null,
   "id": "b65a9728-f28e-4a05-ba90-af2c1c1f3efc",
   "metadata": {},
   "outputs": [],
   "source": []
  }
 ],
 "metadata": {
  "kernelspec": {
   "display_name": "Python 3 (ipykernel)",
   "language": "python",
   "name": "python3"
  },
  "language_info": {
   "codemirror_mode": {
    "name": "ipython",
    "version": 3
   },
   "file_extension": ".py",
   "mimetype": "text/x-python",
   "name": "python",
   "nbconvert_exporter": "python",
   "pygments_lexer": "ipython3",
   "version": "3.9.6"
  }
 },
 "nbformat": 4,
 "nbformat_minor": 5
}
