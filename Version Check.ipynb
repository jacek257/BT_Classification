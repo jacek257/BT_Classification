{
 "cells": [
  {
   "cell_type": "code",
   "execution_count": 2,
   "id": "c7424926",
   "metadata": {},
   "outputs": [],
   "source": [
    "from platform import python_version"
   ]
  },
  {
   "cell_type": "markdown",
   "id": "d44256e7",
   "metadata": {},
   "source": [
    "### Jimi"
   ]
  },
  {
   "cell_type": "code",
   "execution_count": 2,
   "id": "5bdbc45a",
   "metadata": {},
   "outputs": [
    {
     "name": "stdout",
     "output_type": "stream",
     "text": [
      "3.7.10\n"
     ]
    }
   ],
   "source": [
    "print(python_version())"
   ]
  },
  {
   "cell_type": "markdown",
   "id": "0ace8b29",
   "metadata": {},
   "source": [
    "### Ke"
   ]
  },
  {
   "cell_type": "code",
   "execution_count": 3,
   "id": "8794f5a5",
   "metadata": {},
   "outputs": [
    {
     "name": "stdout",
     "output_type": "stream",
     "text": [
      "3.8.8\n"
     ]
    }
   ],
   "source": [
    "print(python_version())"
   ]
  },
  {
   "cell_type": "markdown",
   "id": "e5a52373",
   "metadata": {},
   "source": [
    "### Austin"
   ]
  },
  {
   "cell_type": "code",
   "execution_count": 3,
   "id": "9321f7ac",
   "metadata": {},
   "outputs": [
    {
     "name": "stdout",
     "output_type": "stream",
     "text": [
      "3.9.5\n"
     ]
    }
   ],
   "source": [
    "print(python_version())"
   ]
  },
  {
   "cell_type": "code",
   "execution_count": null,
   "id": "a70b55ed-c753-4656-8116-49d20027e610",
   "metadata": {},
   "outputs": [],
   "source": []
  }
 ],
 "metadata": {
  "kernelspec": {
   "display_name": "Python 3",
   "language": "python",
   "name": "python3"
  },
  "language_info": {
   "codemirror_mode": {
    "name": "ipython",
    "version": 3
   },
   "file_extension": ".py",
   "mimetype": "text/x-python",
   "name": "python",
   "nbconvert_exporter": "python",
   "pygments_lexer": "ipython3",
   "version": "3.7.10"
  }
 },
 "nbformat": 4,
 "nbformat_minor": 5
}
