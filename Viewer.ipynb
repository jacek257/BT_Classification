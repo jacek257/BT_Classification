{
 "cells": [
  {
   "cell_type": "code",
   "execution_count": 1,
   "id": "6d2ecfb9",
   "metadata": {},
   "outputs": [],
   "source": [
    "%load_ext autoreload\n",
    "%autoreload 2"
   ]
  },
  {
   "cell_type": "code",
   "execution_count": 32,
   "id": "3a5630e8",
   "metadata": {},
   "outputs": [],
   "source": [
    "import matplotlib.pyplot as plt\n",
    "import SimpleITK as sitk\n",
    "import numpy as np\n",
    "from data_tools.itk import *\n",
    "import sys\n",
    "import os\n",
    "plt.rcParams[\"figure.figsize\"] = (9,3)\n",
    "sitk.ProcessObject_SetGlobalWarningDisplay(False)\n",
    "%matplotlib ipympl"
   ]
  },
  {
   "cell_type": "code",
   "execution_count": 3,
   "id": "722dcbb9",
   "metadata": {},
   "outputs": [],
   "source": [
    "import mpl_interactions.ipyplot as iplt"
   ]
  },
  {
   "cell_type": "code",
   "execution_count": 4,
   "id": "22da5b83",
   "metadata": {},
   "outputs": [],
   "source": [
    "def foo(path, slice_number):\n",
    "    im = sitk.ReadImage(path)\n",
    "    arr = sitk.GetArrayFromImage(im)\n",
    "    imax = np.max(arr)\n",
    "    plt.rcParams[\"figure.figsize\"] = (5,5)\n",
    "\n",
    "    plt.imshow(\n",
    "        arr[slice_number,:,:],\n",
    "        aspect='auto', vmax=imax, origin='lower')\n",
    "    plt.show()"
   ]
  },
  {
   "cell_type": "code",
   "execution_count": 40,
   "id": "63149668",
   "metadata": {
    "scrolled": false
   },
   "outputs": [
    {
     "name": "stdout",
     "output_type": "stream",
     "text": [
      "(69, 359, 288)\n"
     ]
    },
    {
     "data": {
      "application/vnd.jupyter.widget-view+json": {
       "model_id": "4a37f2a8f6884d05a6b6b7dc823fe04b",
       "version_major": 2,
       "version_minor": 0
      },
      "text/plain": [
       "Canvas(toolbar=Toolbar(toolitems=[('Home', 'Reset original view', 'home', 'home'), ('Back', 'Back to previous …"
      ]
     },
     "metadata": {},
     "output_type": "display_data"
    },
    {
     "data": {
      "application/vnd.jupyter.widget-view+json": {
       "model_id": "9960e308899c40a6801d72a2b6d733b8",
       "version_major": 2,
       "version_minor": 0
      },
      "text/plain": [
       "VBox(children=(HBox(children=(IntSlider(value=0, description='slice_number', max=287, readout=False), Label(va…"
      ]
     },
     "metadata": {},
     "output_type": "display_data"
    },
    {
     "data": {
      "application/vnd.jupyter.widget-view+json": {
       "model_id": "e74c502754ce43549fbfbb4e455a6cf2",
       "version_major": 2,
       "version_minor": 0
      },
      "text/plain": [
       "VBox(children=(HBox(children=(IntSlider(value=0, description='slice_number', max=68, readout=False), Label(val…"
      ]
     },
     "metadata": {},
     "output_type": "display_data"
    },
    {
     "data": {
      "application/vnd.jupyter.widget-view+json": {
       "model_id": "0561637be05441c7beec2bc3108dc8e2",
       "version_major": 2,
       "version_minor": 0
      },
      "text/plain": [
       "VBox(children=(HBox(children=(IntSlider(value=0, description='slice_number', max=358, readout=False), Label(va…"
      ]
     },
     "metadata": {},
     "output_type": "display_data"
    }
   ],
   "source": [
    "image = sitk.ReadImage(\"./data/train/00009/FLAIR.nii\")\n",
    "arr = sitk.GetArrayFromImage(image)[::-1,:,:]\n",
    "\n",
    "def axial(slice_number):\n",
    "    return arr[slice_number,:,:]\n",
    "\n",
    "def cor(slice_number):\n",
    "    return arr[:,slice_number,:]\n",
    "\n",
    "def sag(slice_number):\n",
    "    return arr[:,:,slice_number]\n",
    "\n",
    "fig, ax = plt.subplots(1,3)\n",
    "\n",
    "for a in ax:\n",
    "    a.xaxis.set_visible(False)\n",
    "    a.yaxis.set_visible(False)\n",
    "    \n",
    "ctrl1 = iplt.imshow(axial, slice_number=np.arange(image.GetSize()[2]), aspect='auto', ax=ax[0])\n",
    "ctrl2 = iplt.imshow(sag, slice_number=np.arange(image.GetSize()[0]), aspect='auto', ax=ax[1])\n",
    "crtl3 = iplt.imshow(cor, slice_number=np.arange(image.GetSize()[1]), aspect='auto', ax=ax[2])\n",
    "fig.tight_layout()\n"
   ]
  },
  {
   "cell_type": "code",
   "execution_count": null,
   "id": "7b6c8907",
   "metadata": {},
   "outputs": [],
   "source": []
  }
 ],
 "metadata": {
  "kernelspec": {
   "display_name": "Python 3 (ipykernel)",
   "language": "python",
   "name": "python3"
  },
  "language_info": {
   "codemirror_mode": {
    "name": "ipython",
    "version": 3
   },
   "file_extension": ".py",
   "mimetype": "text/x-python",
   "name": "python",
   "nbconvert_exporter": "python",
   "pygments_lexer": "ipython3",
   "version": "3.9.6"
  }
 },
 "nbformat": 4,
 "nbformat_minor": 5
}
