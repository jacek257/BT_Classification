{
 "cells": [
  {
   "cell_type": "code",
   "execution_count": 1,
   "id": "6d2ecfb9",
   "metadata": {},
   "outputs": [],
   "source": [
    "%load_ext autoreload\n",
    "%autoreload 2"
   ]
  },
  {
   "cell_type": "code",
   "execution_count": 2,
   "id": "5cf2810e",
   "metadata": {},
   "outputs": [
    {
     "name": "stdout",
     "output_type": "stream",
     "text": [
      "Collecting package metadata (current_repodata.json): done\n",
      "Solving environment: done\n",
      "\n",
      "# All requested packages already installed.\n",
      "\n",
      "Requirement already satisfied: mpl-interactions in /home/maltesepoodle/anaconda3/envs/rsna/lib/python3.9/site-packages (0.18.0)\n",
      "Requirement already satisfied: matplotlib>=3.3 in /home/maltesepoodle/anaconda3/envs/rsna/lib/python3.9/site-packages (from mpl-interactions) (3.4.2)\n",
      "Requirement already satisfied: pyparsing>=2.2.1 in /home/maltesepoodle/anaconda3/envs/rsna/lib/python3.9/site-packages (from matplotlib>=3.3->mpl-interactions) (2.4.7)\n",
      "Requirement already satisfied: pillow>=6.2.0 in /home/maltesepoodle/anaconda3/envs/rsna/lib/python3.9/site-packages (from matplotlib>=3.3->mpl-interactions) (8.3.1)\n",
      "Requirement already satisfied: cycler>=0.10 in /home/maltesepoodle/anaconda3/envs/rsna/lib/python3.9/site-packages (from matplotlib>=3.3->mpl-interactions) (0.10.0)\n",
      "Requirement already satisfied: numpy>=1.16 in /home/maltesepoodle/anaconda3/envs/rsna/lib/python3.9/site-packages (from matplotlib>=3.3->mpl-interactions) (1.21.1)\n",
      "Requirement already satisfied: python-dateutil>=2.7 in /home/maltesepoodle/anaconda3/envs/rsna/lib/python3.9/site-packages (from matplotlib>=3.3->mpl-interactions) (2.8.2)\n",
      "Requirement already satisfied: kiwisolver>=1.0.1 in /home/maltesepoodle/anaconda3/envs/rsna/lib/python3.9/site-packages (from matplotlib>=3.3->mpl-interactions) (1.3.1)\n",
      "Requirement already satisfied: six in /home/maltesepoodle/anaconda3/envs/rsna/lib/python3.9/site-packages (from cycler>=0.10->matplotlib>=3.3->mpl-interactions) (1.16.0)\n",
      "Requirement already satisfied: mpl-interactions[jupyter] in /home/maltesepoodle/anaconda3/envs/rsna/lib/python3.9/site-packages (0.18.0)\n",
      "Requirement already satisfied: matplotlib>=3.3 in /home/maltesepoodle/anaconda3/envs/rsna/lib/python3.9/site-packages (from mpl-interactions[jupyter]) (3.4.2)\n",
      "Requirement already satisfied: ipywidgets<8,>=7.5.0 in /home/maltesepoodle/anaconda3/envs/rsna/lib/python3.9/site-packages (from mpl-interactions[jupyter]) (7.6.3)\n",
      "Requirement already satisfied: ipympl>=0.5.8 in /home/maltesepoodle/anaconda3/envs/rsna/lib/python3.9/site-packages (from mpl-interactions[jupyter]) (0.7.0)\n",
      "Requirement already satisfied: ipykernel>=4.7 in /home/maltesepoodle/anaconda3/envs/rsna/lib/python3.9/site-packages (from ipympl>=0.5.8->mpl-interactions[jupyter]) (6.0.3)\n",
      "Requirement already satisfied: jupyter-client<7.0 in /home/maltesepoodle/anaconda3/envs/rsna/lib/python3.9/site-packages (from ipykernel>=4.7->ipympl>=0.5.8->mpl-interactions[jupyter]) (6.1.12)\n",
      "Requirement already satisfied: tornado<7.0,>=4.2 in /home/maltesepoodle/anaconda3/envs/rsna/lib/python3.9/site-packages (from ipykernel>=4.7->ipympl>=0.5.8->mpl-interactions[jupyter]) (6.1)\n",
      "Requirement already satisfied: traitlets<6.0,>=4.1.0 in /home/maltesepoodle/anaconda3/envs/rsna/lib/python3.9/site-packages (from ipykernel>=4.7->ipympl>=0.5.8->mpl-interactions[jupyter]) (5.0.5)\n",
      "Requirement already satisfied: ipython<8.0,>=7.23.1 in /home/maltesepoodle/anaconda3/envs/rsna/lib/python3.9/site-packages (from ipykernel>=4.7->ipympl>=0.5.8->mpl-interactions[jupyter]) (7.25.0)\n",
      "Requirement already satisfied: matplotlib-inline<0.2.0,>=0.1.0 in /home/maltesepoodle/anaconda3/envs/rsna/lib/python3.9/site-packages (from ipykernel>=4.7->ipympl>=0.5.8->mpl-interactions[jupyter]) (0.1.2)\n",
      "Requirement already satisfied: debugpy<2.0,>=1.0.0 in /home/maltesepoodle/anaconda3/envs/rsna/lib/python3.9/site-packages (from ipykernel>=4.7->ipympl>=0.5.8->mpl-interactions[jupyter]) (1.3.0)\n",
      "Requirement already satisfied: pickleshare in /home/maltesepoodle/anaconda3/envs/rsna/lib/python3.9/site-packages (from ipython<8.0,>=7.23.1->ipykernel>=4.7->ipympl>=0.5.8->mpl-interactions[jupyter]) (0.7.5)\n",
      "Requirement already satisfied: setuptools>=18.5 in /home/maltesepoodle/anaconda3/envs/rsna/lib/python3.9/site-packages (from ipython<8.0,>=7.23.1->ipykernel>=4.7->ipympl>=0.5.8->mpl-interactions[jupyter]) (49.6.0.post20210108)\n",
      "Requirement already satisfied: pygments in /home/maltesepoodle/anaconda3/envs/rsna/lib/python3.9/site-packages (from ipython<8.0,>=7.23.1->ipykernel>=4.7->ipympl>=0.5.8->mpl-interactions[jupyter]) (2.9.0)\n",
      "Requirement already satisfied: backcall in /home/maltesepoodle/anaconda3/envs/rsna/lib/python3.9/site-packages (from ipython<8.0,>=7.23.1->ipykernel>=4.7->ipympl>=0.5.8->mpl-interactions[jupyter]) (0.2.0)\n",
      "Requirement already satisfied: prompt-toolkit!=3.0.0,!=3.0.1,<3.1.0,>=2.0.0 in /home/maltesepoodle/anaconda3/envs/rsna/lib/python3.9/site-packages (from ipython<8.0,>=7.23.1->ipykernel>=4.7->ipympl>=0.5.8->mpl-interactions[jupyter]) (3.0.19)\n",
      "Requirement already satisfied: decorator in /home/maltesepoodle/anaconda3/envs/rsna/lib/python3.9/site-packages (from ipython<8.0,>=7.23.1->ipykernel>=4.7->ipympl>=0.5.8->mpl-interactions[jupyter]) (5.0.9)\n",
      "Requirement already satisfied: jedi>=0.16 in /home/maltesepoodle/anaconda3/envs/rsna/lib/python3.9/site-packages (from ipython<8.0,>=7.23.1->ipykernel>=4.7->ipympl>=0.5.8->mpl-interactions[jupyter]) (0.18.0)\n",
      "Requirement already satisfied: pexpect>4.3 in /home/maltesepoodle/anaconda3/envs/rsna/lib/python3.9/site-packages (from ipython<8.0,>=7.23.1->ipykernel>=4.7->ipympl>=0.5.8->mpl-interactions[jupyter]) (4.8.0)\n",
      "Requirement already satisfied: nbformat>=4.2.0 in /home/maltesepoodle/anaconda3/envs/rsna/lib/python3.9/site-packages (from ipywidgets<8,>=7.5.0->mpl-interactions[jupyter]) (5.1.3)\n",
      "Requirement already satisfied: jupyterlab-widgets>=1.0.0 in /home/maltesepoodle/anaconda3/envs/rsna/lib/python3.9/site-packages (from ipywidgets<8,>=7.5.0->mpl-interactions[jupyter]) (1.0.0)\n",
      "Requirement already satisfied: widgetsnbextension~=3.5.0 in /home/maltesepoodle/anaconda3/envs/rsna/lib/python3.9/site-packages (from ipywidgets<8,>=7.5.0->mpl-interactions[jupyter]) (3.5.1)\n",
      "Requirement already satisfied: parso<0.9.0,>=0.8.0 in /home/maltesepoodle/anaconda3/envs/rsna/lib/python3.9/site-packages (from jedi>=0.16->ipython<8.0,>=7.23.1->ipykernel>=4.7->ipympl>=0.5.8->mpl-interactions[jupyter]) (0.8.2)\n",
      "Requirement already satisfied: python-dateutil>=2.1 in /home/maltesepoodle/anaconda3/envs/rsna/lib/python3.9/site-packages (from jupyter-client<7.0->ipykernel>=4.7->ipympl>=0.5.8->mpl-interactions[jupyter]) (2.8.2)\n",
      "Requirement already satisfied: pyzmq>=13 in /home/maltesepoodle/anaconda3/envs/rsna/lib/python3.9/site-packages (from jupyter-client<7.0->ipykernel>=4.7->ipympl>=0.5.8->mpl-interactions[jupyter]) (22.1.0)\n",
      "Requirement already satisfied: jupyter-core>=4.6.0 in /home/maltesepoodle/anaconda3/envs/rsna/lib/python3.9/site-packages (from jupyter-client<7.0->ipykernel>=4.7->ipympl>=0.5.8->mpl-interactions[jupyter]) (4.7.1)\n",
      "Requirement already satisfied: pyparsing>=2.2.1 in /home/maltesepoodle/anaconda3/envs/rsna/lib/python3.9/site-packages (from matplotlib>=3.3->mpl-interactions[jupyter]) (2.4.7)\n",
      "Requirement already satisfied: kiwisolver>=1.0.1 in /home/maltesepoodle/anaconda3/envs/rsna/lib/python3.9/site-packages (from matplotlib>=3.3->mpl-interactions[jupyter]) (1.3.1)\n",
      "Requirement already satisfied: numpy>=1.16 in /home/maltesepoodle/anaconda3/envs/rsna/lib/python3.9/site-packages (from matplotlib>=3.3->mpl-interactions[jupyter]) (1.21.1)\n",
      "Requirement already satisfied: pillow>=6.2.0 in /home/maltesepoodle/anaconda3/envs/rsna/lib/python3.9/site-packages (from matplotlib>=3.3->mpl-interactions[jupyter]) (8.3.1)\n",
      "Requirement already satisfied: cycler>=0.10 in /home/maltesepoodle/anaconda3/envs/rsna/lib/python3.9/site-packages (from matplotlib>=3.3->mpl-interactions[jupyter]) (0.10.0)\n",
      "Requirement already satisfied: six in /home/maltesepoodle/anaconda3/envs/rsna/lib/python3.9/site-packages (from cycler>=0.10->matplotlib>=3.3->mpl-interactions[jupyter]) (1.16.0)\n",
      "Requirement already satisfied: jsonschema!=2.5.0,>=2.4 in /home/maltesepoodle/anaconda3/envs/rsna/lib/python3.9/site-packages (from nbformat>=4.2.0->ipywidgets<8,>=7.5.0->mpl-interactions[jupyter]) (3.2.0)\n",
      "Requirement already satisfied: ipython-genutils in /home/maltesepoodle/anaconda3/envs/rsna/lib/python3.9/site-packages (from nbformat>=4.2.0->ipywidgets<8,>=7.5.0->mpl-interactions[jupyter]) (0.2.0)\n",
      "Requirement already satisfied: pyrsistent>=0.14.0 in /home/maltesepoodle/anaconda3/envs/rsna/lib/python3.9/site-packages (from jsonschema!=2.5.0,>=2.4->nbformat>=4.2.0->ipywidgets<8,>=7.5.0->mpl-interactions[jupyter]) (0.17.3)\n",
      "Requirement already satisfied: attrs>=17.4.0 in /home/maltesepoodle/anaconda3/envs/rsna/lib/python3.9/site-packages (from jsonschema!=2.5.0,>=2.4->nbformat>=4.2.0->ipywidgets<8,>=7.5.0->mpl-interactions[jupyter]) (21.2.0)\n",
      "Requirement already satisfied: ptyprocess>=0.5 in /home/maltesepoodle/anaconda3/envs/rsna/lib/python3.9/site-packages (from pexpect>4.3->ipython<8.0,>=7.23.1->ipykernel>=4.7->ipympl>=0.5.8->mpl-interactions[jupyter]) (0.7.0)\n",
      "Requirement already satisfied: wcwidth in /home/maltesepoodle/anaconda3/envs/rsna/lib/python3.9/site-packages (from prompt-toolkit!=3.0.0,!=3.0.1,<3.1.0,>=2.0.0->ipython<8.0,>=7.23.1->ipykernel>=4.7->ipympl>=0.5.8->mpl-interactions[jupyter]) (0.2.5)\n",
      "Requirement already satisfied: notebook>=4.4.1 in /home/maltesepoodle/anaconda3/envs/rsna/lib/python3.9/site-packages (from widgetsnbextension~=3.5.0->ipywidgets<8,>=7.5.0->mpl-interactions[jupyter]) (6.4.0)\n",
      "Requirement already satisfied: nbconvert in /home/maltesepoodle/anaconda3/envs/rsna/lib/python3.9/site-packages (from notebook>=4.4.1->widgetsnbextension~=3.5.0->ipywidgets<8,>=7.5.0->mpl-interactions[jupyter]) (6.1.0)\n"
     ]
    },
    {
     "name": "stdout",
     "output_type": "stream",
     "text": [
      "Requirement already satisfied: terminado>=0.8.3 in /home/maltesepoodle/anaconda3/envs/rsna/lib/python3.9/site-packages (from notebook>=4.4.1->widgetsnbextension~=3.5.0->ipywidgets<8,>=7.5.0->mpl-interactions[jupyter]) (0.10.1)\n",
      "Requirement already satisfied: prometheus-client in /home/maltesepoodle/anaconda3/envs/rsna/lib/python3.9/site-packages (from notebook>=4.4.1->widgetsnbextension~=3.5.0->ipywidgets<8,>=7.5.0->mpl-interactions[jupyter]) (0.11.0)\n",
      "Requirement already satisfied: argon2-cffi in /home/maltesepoodle/anaconda3/envs/rsna/lib/python3.9/site-packages (from notebook>=4.4.1->widgetsnbextension~=3.5.0->ipywidgets<8,>=7.5.0->mpl-interactions[jupyter]) (20.1.0)\n",
      "Requirement already satisfied: jinja2 in /home/maltesepoodle/anaconda3/envs/rsna/lib/python3.9/site-packages (from notebook>=4.4.1->widgetsnbextension~=3.5.0->ipywidgets<8,>=7.5.0->mpl-interactions[jupyter]) (3.0.1)\n",
      "Requirement already satisfied: Send2Trash>=1.5.0 in /home/maltesepoodle/anaconda3/envs/rsna/lib/python3.9/site-packages (from notebook>=4.4.1->widgetsnbextension~=3.5.0->ipywidgets<8,>=7.5.0->mpl-interactions[jupyter]) (1.7.1)\n",
      "Requirement already satisfied: cffi>=1.0.0 in /home/maltesepoodle/anaconda3/envs/rsna/lib/python3.9/site-packages (from argon2-cffi->notebook>=4.4.1->widgetsnbextension~=3.5.0->ipywidgets<8,>=7.5.0->mpl-interactions[jupyter]) (1.14.6)\n",
      "Requirement already satisfied: pycparser in /home/maltesepoodle/anaconda3/envs/rsna/lib/python3.9/site-packages (from cffi>=1.0.0->argon2-cffi->notebook>=4.4.1->widgetsnbextension~=3.5.0->ipywidgets<8,>=7.5.0->mpl-interactions[jupyter]) (2.20)\n",
      "Requirement already satisfied: MarkupSafe>=2.0 in /home/maltesepoodle/anaconda3/envs/rsna/lib/python3.9/site-packages (from jinja2->notebook>=4.4.1->widgetsnbextension~=3.5.0->ipywidgets<8,>=7.5.0->mpl-interactions[jupyter]) (2.0.1)\n",
      "Requirement already satisfied: defusedxml in /home/maltesepoodle/anaconda3/envs/rsna/lib/python3.9/site-packages (from nbconvert->notebook>=4.4.1->widgetsnbextension~=3.5.0->ipywidgets<8,>=7.5.0->mpl-interactions[jupyter]) (0.7.1)\n",
      "Requirement already satisfied: nbclient<0.6.0,>=0.5.0 in /home/maltesepoodle/anaconda3/envs/rsna/lib/python3.9/site-packages (from nbconvert->notebook>=4.4.1->widgetsnbextension~=3.5.0->ipywidgets<8,>=7.5.0->mpl-interactions[jupyter]) (0.5.3)\n",
      "Requirement already satisfied: testpath in /home/maltesepoodle/anaconda3/envs/rsna/lib/python3.9/site-packages (from nbconvert->notebook>=4.4.1->widgetsnbextension~=3.5.0->ipywidgets<8,>=7.5.0->mpl-interactions[jupyter]) (0.5.0)\n",
      "Requirement already satisfied: mistune<2,>=0.8.1 in /home/maltesepoodle/anaconda3/envs/rsna/lib/python3.9/site-packages (from nbconvert->notebook>=4.4.1->widgetsnbextension~=3.5.0->ipywidgets<8,>=7.5.0->mpl-interactions[jupyter]) (0.8.4)\n",
      "Requirement already satisfied: entrypoints>=0.2.2 in /home/maltesepoodle/anaconda3/envs/rsna/lib/python3.9/site-packages (from nbconvert->notebook>=4.4.1->widgetsnbextension~=3.5.0->ipywidgets<8,>=7.5.0->mpl-interactions[jupyter]) (0.3)\n",
      "Requirement already satisfied: bleach in /home/maltesepoodle/anaconda3/envs/rsna/lib/python3.9/site-packages (from nbconvert->notebook>=4.4.1->widgetsnbextension~=3.5.0->ipywidgets<8,>=7.5.0->mpl-interactions[jupyter]) (3.3.1)\n",
      "Requirement already satisfied: pandocfilters>=1.4.1 in /home/maltesepoodle/anaconda3/envs/rsna/lib/python3.9/site-packages (from nbconvert->notebook>=4.4.1->widgetsnbextension~=3.5.0->ipywidgets<8,>=7.5.0->mpl-interactions[jupyter]) (1.4.2)\n",
      "Requirement already satisfied: jupyterlab-pygments in /home/maltesepoodle/anaconda3/envs/rsna/lib/python3.9/site-packages (from nbconvert->notebook>=4.4.1->widgetsnbextension~=3.5.0->ipywidgets<8,>=7.5.0->mpl-interactions[jupyter]) (0.1.2)\n",
      "Requirement already satisfied: async-generator in /home/maltesepoodle/anaconda3/envs/rsna/lib/python3.9/site-packages (from nbclient<0.6.0,>=0.5.0->nbconvert->notebook>=4.4.1->widgetsnbextension~=3.5.0->ipywidgets<8,>=7.5.0->mpl-interactions[jupyter]) (1.10)\n",
      "Requirement already satisfied: nest-asyncio in /home/maltesepoodle/anaconda3/envs/rsna/lib/python3.9/site-packages (from nbclient<0.6.0,>=0.5.0->nbconvert->notebook>=4.4.1->widgetsnbextension~=3.5.0->ipywidgets<8,>=7.5.0->mpl-interactions[jupyter]) (1.5.1)\n",
      "Requirement already satisfied: webencodings in /home/maltesepoodle/anaconda3/envs/rsna/lib/python3.9/site-packages (from bleach->nbconvert->notebook>=4.4.1->widgetsnbextension~=3.5.0->ipywidgets<8,>=7.5.0->mpl-interactions[jupyter]) (0.5.1)\n",
      "Requirement already satisfied: packaging in /home/maltesepoodle/anaconda3/envs/rsna/lib/python3.9/site-packages (from bleach->nbconvert->notebook>=4.4.1->widgetsnbextension~=3.5.0->ipywidgets<8,>=7.5.0->mpl-interactions[jupyter]) (21.0)\n"
     ]
    }
   ],
   "source": [
    "!conda install -y -c conda-forge ipympl\n",
    "!pip install mpl-interactions\n",
    "!pip install 'mpl-interactions[jupyter]'"
   ]
  },
  {
   "cell_type": "code",
   "execution_count": 12,
   "id": "3a5630e8",
   "metadata": {},
   "outputs": [],
   "source": [
    "import matplotlib.pyplot as plt\n",
    "import SimpleITK as sitk\n",
    "import numpy as np\n",
    "from data_tools.itk import *\n",
    "import sys\n",
    "import os\n",
    "# define total size\n",
    "plt.rcParams[\"figure.figsize\"] = (9,2.5)\n",
    "sitk.ProcessObject_SetGlobalWarningDisplay(False)\n",
    "%matplotlib ipympl"
   ]
  },
  {
   "cell_type": "code",
   "execution_count": 4,
   "id": "722dcbb9",
   "metadata": {},
   "outputs": [],
   "source": [
    "import mpl_interactions.ipyplot as iplt"
   ]
  },
  {
   "cell_type": "code",
   "execution_count": 5,
   "id": "22da5b83",
   "metadata": {},
   "outputs": [],
   "source": [
    "def foo(path, slice_number):\n",
    "    im = sitk.ReadImage(path)\n",
    "    arr = sitk.GetArrayFromImage(im)\n",
    "    imax = np.max(arr)\n",
    "    plt.rcParams[\"figure.figsize\"] = (5,5)\n",
    "\n",
    "    plt.imshow(\n",
    "        arr[slice_number,:,:],\n",
    "        aspect='auto', vmax=imax, origin='lower')\n",
    "    plt.show()"
   ]
  },
  {
   "cell_type": "code",
   "execution_count": 14,
   "id": "0201291b",
   "metadata": {
    "scrolled": false
   },
   "outputs": [
    {
     "data": {
      "application/vnd.jupyter.widget-view+json": {
       "model_id": "1ccaff354a514e658e8248631b327a38",
       "version_major": 2,
       "version_minor": 0
      },
      "text/plain": [
       "Canvas(toolbar=Toolbar(toolitems=[('Home', 'Reset original view', 'home', 'home'), ('Back', 'Back to previous …"
      ]
     },
     "metadata": {},
     "output_type": "display_data"
    },
    {
     "data": {
      "application/vnd.jupyter.widget-view+json": {
       "model_id": "51e638b9eb3d46c49ca816d97313e92e",
       "version_major": 2,
       "version_minor": 0
      },
      "text/plain": [
       "VBox(children=(HBox(children=(IntSlider(value=0, description='ax_slice', max=58, readout=False), Label(value='…"
      ]
     },
     "metadata": {},
     "output_type": "display_data"
    },
    {
     "data": {
      "application/vnd.jupyter.widget-view+json": {
       "model_id": "fd2f6ef866cf42bdba10bd57302453ac",
       "version_major": 2,
       "version_minor": 0
      },
      "text/plain": [
       "VBox(children=(HBox(children=(IntSlider(value=0, description='sag_slice', max=277, readout=False), Label(value…"
      ]
     },
     "metadata": {},
     "output_type": "display_data"
    },
    {
     "data": {
      "application/vnd.jupyter.widget-view+json": {
       "model_id": "41893e762a29461db3334e7b8736f7d6",
       "version_major": 2,
       "version_minor": 0
      },
      "text/plain": [
       "VBox(children=(HBox(children=(IntSlider(value=0, description='cor_slice', max=312, readout=False), Label(value…"
      ]
     },
     "metadata": {},
     "output_type": "display_data"
    }
   ],
   "source": [
    "image = sitk.ReadImage(\"./data/train/00087/T1w.nii\")\n",
    "arr = sitk.GetArrayFromImage(image)[::-1,:,:]\n",
    "\n",
    "\n",
    "def axial(ax_slice):\n",
    "    return arr[ax_slice,:,:]\n",
    "\n",
    "def cor(cor_slice):\n",
    "    return arr[:,cor_slice,:]\n",
    "\n",
    "def sag(sag_slice):\n",
    "    return arr[:,:,sag_slice]\n",
    "\n",
    "# define layout\n",
    "fig, ax = plt.subplots(1,3)\n",
    "\n",
    "for a in ax:\n",
    "    a.xaxis.set_visible(False)\n",
    "    a.yaxis.set_visible(False)\n",
    "    \n",
    "ctrl1 = iplt.imshow(axial, ax_slice=np.arange(image.GetSize()[2]), aspect='auto', ax=ax[0], vmin=0, vmax=1)\n",
    "ctrl2 = iplt.imshow(sag, sag_slice=np.arange(image.GetSize()[0]), aspect='auto', ax=ax[1], vmin=0, vmax=1)\n",
    "crtl3 = iplt.imshow(cor, cor_slice=np.arange(image.GetSize()[1]), aspect='auto', ax=ax[2], vmin=0, vmax=1 )\n",
    "fig.tight_layout()\n"
   ]
  },
  {
   "cell_type": "code",
   "execution_count": null,
   "id": "3bd136d7",
   "metadata": {},
   "outputs": [],
   "source": []
  }
 ],
 "metadata": {
  "kernelspec": {
   "display_name": "Python 3 (ipykernel)",
   "language": "python",
   "name": "python3"
  },
  "language_info": {
   "codemirror_mode": {
    "name": "ipython",
    "version": 3
   },
   "file_extension": ".py",
   "mimetype": "text/x-python",
   "name": "python",
   "nbconvert_exporter": "python",
   "pygments_lexer": "ipython3",
   "version": "3.9.6"
  }
 },
 "nbformat": 4,
 "nbformat_minor": 5
}
