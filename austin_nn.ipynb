{
 "cells": [
  {
   "cell_type": "code",
   "execution_count": 1,
   "id": "075e384b-4ca4-4e10-bbd7-972083fc7847",
   "metadata": {},
   "outputs": [],
   "source": [
    "%load_ext autoreload\n",
    "%autoreload 2"
   ]
  },
  {
   "cell_type": "code",
   "execution_count": 2,
   "id": "6bcf3d67-64b3-4e7f-b6c5-f6cad3762bab",
   "metadata": {},
   "outputs": [],
   "source": [
    "import torch \n",
    "import torch.nn as nn\n",
    "import torch.optim as optim\n",
    "from torchvision import transforms\n",
    "from torch.utils.data import Dataset, DataLoader\n",
    "from torch_tools.datasets import *\n",
    "import numpy as np\n",
    "from PIL import Image\n",
    "import os\n",
    "from tqdm import tqdm\n",
    "from torch_tools.training_methods import *\n",
    "from sklearn.model_selection import train_test_split"
   ]
  },
  {
   "cell_type": "code",
   "execution_count": 3,
   "id": "fb420d67-9d02-4618-a96f-431e287a227f",
   "metadata": {},
   "outputs": [
    {
     "data": {
      "text/plain": [
       "torch.Size([1, 100, 100, 100])"
      ]
     },
     "execution_count": 3,
     "metadata": {},
     "output_type": "execute_result"
    }
   ],
   "source": [
    "# initialize dataloader for testing\n",
    "flair, t1w, t1wce, t2w, labels = get_data_paths(\"./tables/nii_data_paths.csv\")\n",
    "\n",
    "x_train, x_test, y_train, y_test = train_test_split(flair, labels, \n",
    "                                            test_size = 0.2, random_state = 42)\n",
    "\n",
    "train_table = (x_train, y_train)\n",
    "test_table = (x_test, y_test)\n",
    "\n",
    "\n",
    "\n",
    "train_set = flair_dataset(train_table, transform=None)\n",
    "test_set = flair_dataset(test_table, transform=None)\n",
    "\n",
    "train_loader = DataLoader(train_set, batch_size=10, shuffle=True)\n",
    "test_loader = DataLoader(test_set, batch_size=10, shuffle=True)\n",
    "\n",
    "train_set[0][0].shape"
   ]
  },
  {
   "cell_type": "code",
   "execution_count": 4,
   "id": "7ef6f8d3-cef1-4adf-bf9c-ee555d4f8b5e",
   "metadata": {},
   "outputs": [
    {
     "data": {
      "text/plain": [
       "torch.Size([10, 3, 4, 4, 4])"
      ]
     },
     "execution_count": 4,
     "metadata": {},
     "output_type": "execute_result"
    }
   ],
   "source": [
    "layer = nn.Sequential( \n",
    "    nn.Conv3d(1, 5, 5, stride=5, padding=0),\n",
    "    nn.BatchNorm3d(5),\n",
    "    nn.ReLU(inplace=True),\n",
    ")\n",
    "layer2 = nn.Sequential(\n",
    "    nn.Conv3d(5, 3, 3, stride=3, padding=2),\n",
    "    nn.BatchNorm3d(3),\n",
    "    nn.ReLU(inplace=True),\n",
    "    # maxpool reduces to a 4x4x4x3 hypervolume\n",
    "    nn.MaxPool3d(2),\n",
    ")\n",
    "x = layer(next(iter(train_loader))[0])\n",
    "x = layer2(x)\n",
    "x.shape"
   ]
  },
  {
   "cell_type": "code",
   "execution_count": 5,
   "id": "e81099ea-3db4-483a-b26e-a542b07e990f",
   "metadata": {},
   "outputs": [],
   "source": [
    "# define neural net\n",
    "class austin_net(nn.Module):\n",
    "    \"\"\" \n",
    "    this class implements an extremely simple 3d conv net\n",
    "    inference using .forward()\n",
    "    \"\"\"\n",
    "    def __init__(self):\n",
    "        super(austin_net, self).__init__()\n",
    "        self.conv = nn.Sequential(\n",
    "            # first conv outputs a 1x5x20x20x20 hypervolume\n",
    "            nn.Conv3d(1, 5, 5, stride=5, padding=0),\n",
    "            nn.BatchNorm3d(5),\n",
    "            nn.ReLU(inplace=True),\n",
    "            # 2nd conv conv outputs a 8x8x8x3 hypervolume \n",
    "            nn.Conv3d(5, 3, 3, stride=3, padding=2),\n",
    "            nn.BatchNorm3d(3),\n",
    "            nn.ReLU(inplace=True),\n",
    "            # maxpool reduces to a 4x4x4x3 hypervolume\n",
    "            nn.MaxPool3d(2),\n",
    "        )\n",
    "        self.fc = nn.Sequential (\n",
    "            nn.Linear(192, 512),\n",
    "            nn.Dropout(),\n",
    "            nn.ReLU(inplace=True),\n",
    "            nn.Linear(512, 1)\n",
    "        )\n",
    "    \n",
    "    def forward(self, x):\n",
    "        out_conv1 = self.conv(x)\n",
    "        out_flat = out_conv1.view(-1, 192)\n",
    "        outy = self.fc(out_flat)\n",
    "        \n",
    "        return outy\n",
    "\n",
    "def init_weights(m):\n",
    "    if isinstance(m, nn.Conv3d) or isinstance(m, nn.Linear):\n",
    "        torch.nn.init.xavier_uniform_(m.weight)\n",
    "        if m.bias is not None:\n",
    "            torch.nn.init.zeros_(m.bias)"
   ]
  },
  {
   "cell_type": "code",
   "execution_count": 6,
   "id": "d34f8a96-e1b9-456b-aa11-bdd526c75392",
   "metadata": {},
   "outputs": [],
   "source": [
    "model = austin_net()"
   ]
  },
  {
   "cell_type": "code",
   "execution_count": 7,
   "id": "a6bee2f7-6be5-4433-950e-b823e13aba93",
   "metadata": {},
   "outputs": [
    {
     "name": "stdout",
     "output_type": "stream",
     "text": [
      "device: cuda\n"
     ]
    },
    {
     "data": {
      "text/plain": [
       "austin_net(\n",
       "  (conv): Sequential(\n",
       "    (0): Conv3d(1, 5, kernel_size=(5, 5, 5), stride=(5, 5, 5))\n",
       "    (1): BatchNorm3d(5, eps=1e-05, momentum=0.1, affine=True, track_running_stats=True)\n",
       "    (2): ReLU(inplace=True)\n",
       "    (3): Conv3d(5, 3, kernel_size=(3, 3, 3), stride=(3, 3, 3), padding=(2, 2, 2))\n",
       "    (4): BatchNorm3d(3, eps=1e-05, momentum=0.1, affine=True, track_running_stats=True)\n",
       "    (5): ReLU(inplace=True)\n",
       "    (6): MaxPool3d(kernel_size=2, stride=2, padding=0, dilation=1, ceil_mode=False)\n",
       "  )\n",
       "  (fc): Sequential(\n",
       "    (0): Linear(in_features=192, out_features=512, bias=True)\n",
       "    (1): Dropout(p=0.5, inplace=False)\n",
       "    (2): ReLU(inplace=True)\n",
       "    (3): Linear(in_features=512, out_features=1, bias=True)\n",
       "  )\n",
       ")"
      ]
     },
     "execution_count": 7,
     "metadata": {},
     "output_type": "execute_result"
    }
   ],
   "source": [
    "# send model to device if available\n",
    "device = 'cuda' if torch.cuda.is_available() else 'cpu'\n",
    "print(f'device: {device}')\n",
    "\n",
    "\n",
    "# instance a criterion and optimizer \n",
    "criterion = nn.BCEWithLogitsLoss()\n",
    "optimizer = optim.SGD(model.parameters(), lr=1e-2, momentum=0.8)\n",
    "\n",
    "# inialize weights\n",
    "model.apply(init_weights)\n",
    "\n",
    "model.to(device)"
   ]
  },
  {
   "cell_type": "code",
   "execution_count": 8,
   "id": "fdf12da3-f032-4fc6-8182-9ec8c6541a1e",
   "metadata": {},
   "outputs": [
    {
     "name": "stderr",
     "output_type": "stream",
     "text": [
      "100%|██████████████████████████████████████████████████████| 1060/1060 [08:13<00:00,  2.15it/s]\n"
     ]
    }
   ],
   "source": [
    "ta, te, va, ve, best_model = train_model(model, 10, train_loader, test_loader, criterion, \n",
    "                             optimizer, device)"
   ]
  },
  {
   "cell_type": "code",
   "execution_count": 9,
   "id": "1a331b89-79a2-4607-8541-87e70cdba619",
   "metadata": {},
   "outputs": [],
   "source": [
    "import matplotlib.pyplot as plt"
   ]
  },
  {
   "cell_type": "code",
   "execution_count": 10,
   "id": "5240dbe9-de52-4cd5-a845-84a15d59d975",
   "metadata": {},
   "outputs": [
    {
     "data": {
      "image/png": "[encoded data removed]",
      "text/plain": [
       "<Figure size 1152x648 with 1 Axes>"
      ]
     },
     "metadata": {
      "needs_background": "light"
     },
     "output_type": "display_data"
    },
    {
     "data": {
      "text/plain": [
       "<Figure size 432x288 with 0 Axes>"
      ]
     },
     "metadata": {},
     "output_type": "display_data"
    }
   ],
   "source": [
    "plt.figure(figsize=(16,9))\n",
    "plt.plot(np.arange(len(ta)), ta, va)\n",
    "plt.legend(('Training loss', 'Validation loss'), fontsize=16)\n",
    "plt.xlabel('Epochs', fontsize=16)\n",
    "plt.ylabel('Loss', fontsize=16)\n",
    "plt.show()\n",
    "plt.clf()"
   ]
  }
 ],
 "metadata": {
  "kernelspec": {
   "display_name": "Python 3 (ipykernel)",
   "language": "python",
   "name": "python3"
  },
  "language_info": {
   "codemirror_mode": {
    "name": "ipython",
    "version": 3
   },
   "file_extension": ".py",
   "mimetype": "text/x-python",
   "name": "python",
   "nbconvert_exporter": "python",
   "pygments_lexer": "ipython3",
   "version": "3.9.5"
  }
 },
 "nbformat": 4,
 "nbformat_minor": 5
}
