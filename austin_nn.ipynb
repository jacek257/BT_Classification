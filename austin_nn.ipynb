{
 "cells": [
  {
   "cell_type": "code",
   "execution_count": 1,
   "id": "075e384b-4ca4-4e10-bbd7-972083fc7847",
   "metadata": {},
   "outputs": [],
   "source": [
    "%load_ext autoreload\n",
    "%autoreload 2"
   ]
  },
  {
   "cell_type": "code",
   "execution_count": 2,
   "id": "6bcf3d67-64b3-4e7f-b6c5-f6cad3762bab",
   "metadata": {},
   "outputs": [],
   "source": [
    "import torch \n",
    "import torch.nn as nn\n",
    "import torch.optim as optim\n",
    "from torchvision import transforms\n",
    "from torch.utils.data import Dataset, DataLoader\n",
    "from torch_tools.datasets import *\n",
    "import numpy as np\n",
    "from PIL import Image\n",
    "import os\n",
    "from tqdm import tqdm\n",
    "from torch_tools.training_methods import *\n",
    "from torch_tools.inception import *\n",
    "from sklearn.model_selection import train_test_split"
   ]
  },
  {
   "cell_type": "code",
   "execution_count": 3,
   "id": "fb420d67-9d02-4618-a96f-431e287a227f",
   "metadata": {},
   "outputs": [
    {
     "data": {
      "text/plain": [
       "torch.Size([1, 100, 100, 100])"
      ]
     },
     "execution_count": 3,
     "metadata": {},
     "output_type": "execute_result"
    }
   ],
   "source": [
    "# initialize dataloader for testing\n",
    "flair, t1w, t1wce, t2w, labels = get_data_paths(\"./tables/nii_data_paths.csv\")\n",
    "\n",
    "x_train, x_test, y_train, y_test = train_test_split(flair, labels, \n",
    "                                            test_size = 0.2, random_state = 42)\n",
    "\n",
    "train_table = (x_train, y_train)\n",
    "test_table = (x_test, y_test)\n",
    "\n",
    "\n",
    "\n",
    "train_set = flair_dataset(train_table, transform=None)\n",
    "test_set = flair_dataset(test_table, transform=None)\n",
    "\n",
    "train_loader = DataLoader(train_set, batch_size=1, shuffle=True)\n",
    "test_loader = DataLoader(test_set, batch_size=8, shuffle=True)\n",
    "\n",
    "train_set[0][0].shape"
   ]
  },
  {
   "cell_type": "code",
   "execution_count": 4,
   "id": "7ef6f8d3-cef1-4adf-bf9c-ee555d4f8b5e",
   "metadata": {},
   "outputs": [
    {
     "data": {
      "text/plain": [
       "torch.Size([1, 3, 4, 4, 4])"
      ]
     },
     "execution_count": 4,
     "metadata": {},
     "output_type": "execute_result"
    }
   ],
   "source": [
    "layer = nn.Sequential( \n",
    "    nn.Conv3d(1, 5, 5, stride=5, padding=0),\n",
    "    nn.BatchNorm3d(5),\n",
    "    nn.ReLU(inplace=True),\n",
    ")\n",
    "layer2 = nn.Sequential(\n",
    "    nn.Conv3d(5, 3, 3, stride=3, padding=2),\n",
    "    nn.BatchNorm3d(3),\n",
    "    nn.ReLU(inplace=True),\n",
    "    # maxpool reduces to a 4x4x4x3 hypervolume\n",
    "    nn.MaxPool3d(2),\n",
    ")\n",
    "x = layer(next(iter(train_loader))[0])\n",
    "x = layer2(x)\n",
    "x.shape"
   ]
  },
  {
   "cell_type": "code",
   "execution_count": 5,
   "id": "e81099ea-3db4-483a-b26e-a542b07e990f",
   "metadata": {},
   "outputs": [],
   "source": [
    "# define neural net\n",
    "class austin_net(nn.Module):\n",
    "    \"\"\" \n",
    "    this class implements an extremely simple 3d conv net\n",
    "    inference using .forward()\n",
    "    \"\"\"\n",
    "    def __init__(self):\n",
    "        super(austin_net, self).__init__()\n",
    "        self.conv = nn.Sequential(\n",
    "            # first conv outputs a 1x5x20x20x20 hypervolume\n",
    "            nn.Conv3d(1, 5, 5, stride=5, padding=0),\n",
    "            nn.BatchNorm3d(5),\n",
    "            nn.ReLU(inplace=True),\n",
    "            # 2nd conv conv outputs a 8x8x8x3 hypervolume \n",
    "            nn.Conv3d(5, 3, 3, stride=3, padding=2),\n",
    "            nn.BatchNorm3d(3),\n",
    "            nn.ReLU(inplace=True),\n",
    "            # maxpool reduces to a 4x4x4x3 hypervolume\n",
    "            nn.MaxPool3d(2),\n",
    "        )\n",
    "        self.fc = nn.Sequential (\n",
    "            nn.Linear(192, 512),\n",
    "            nn.Dropout(),\n",
    "            nn.ReLU(inplace=True),\n",
    "            nn.Linear(512, 1)\n",
    "        )\n",
    "    \n",
    "    def forward(self, x):\n",
    "        out_conv1 = self.conv(x)\n",
    "        out_flat = out_conv1.view(-1, 192)\n",
    "        outy = self.fc(out_flat)\n",
    "        \n",
    "        return outy\n",
    "\n",
    "def init_weights(m):\n",
    "    if isinstance(m, nn.Conv3d) or isinstance(m, nn.Linear):\n",
    "        torch.nn.init.xavier_uniform_(m.weight)\n",
    "        if m.bias is not None:\n",
    "            torch.nn.init.zeros_(m.bias)"
   ]
  },
  {
   "cell_type": "code",
   "execution_count": 6,
   "id": "d34f8a96-e1b9-456b-aa11-bdd526c75392",
   "metadata": {},
   "outputs": [],
   "source": [
    "model = austin_net()"
   ]
  },
  {
   "cell_type": "raw",
   "id": "28dde344-7e22-475e-974a-7e65a36f5657",
   "metadata": {},
   "source": [
    "# send model to device if available\n",
    "device = 'cuda' if torch.cuda.is_available() else 'cpu'\n",
    "print(f'device: {device}')\n",
    "\n",
    "\n",
    "# instance a criterion and optimizer \n",
    "criterion = nn.BCEWithLogitsLoss()\n",
    "optimizer = optim.SGD(model.parameters(), lr=1e-2, momentum=0.8)\n",
    "\n",
    "# inialize weights\n",
    "model.apply(init_weights)\n",
    "\n",
    "model.to(device)"
   ]
  },
  {
   "cell_type": "raw",
   "id": "e276bae4-6bfc-40ea-aefc-0259950de6dd",
   "metadata": {},
   "source": [
    "ta, te, va, ve, best_model = train_model(model, 1, train_loader, test_loader, criterion, \n",
    "                             optimizer, device)"
   ]
  },
  {
   "cell_type": "code",
   "execution_count": 7,
   "id": "1a331b89-79a2-4607-8541-87e70cdba619",
   "metadata": {},
   "outputs": [],
   "source": [
    "import matplotlib.pyplot as plt"
   ]
  },
  {
   "cell_type": "raw",
   "id": "e0258be1-f2a9-4b5c-9524-c8ff4b6f2e00",
   "metadata": {},
   "source": [
    "plt.figure(figsize=(16,9))\n",
    "plt.plot(np.arange(len(te)), te, ve)\n",
    "plt.legend(('Training Loss', 'Validation Loss'), fontsize=16)\n",
    "plt.xlabel('Epochs', fontsize=16)\n",
    "plt.ylabel('Loss', fontsize=16)\n",
    "plt.show()\n",
    "plt.clf()"
   ]
  },
  {
   "cell_type": "raw",
   "id": "0231b921-6e3c-467e-bc40-1ae0194480cd",
   "metadata": {},
   "source": [
    "plt.figure(figsize=(16,9))\n",
    "plt.plot(np.arange(len(ta)), ta, va)\n",
    "plt.legend(('Training Acc', 'Validation Acc'), fontsize=16)\n",
    "plt.xlabel('Epochs', fontsize=16)\n",
    "plt.ylabel('Acc', fontsize=16)\n",
    "plt.show()\n",
    "plt.clf()"
   ]
  },
  {
   "cell_type": "code",
   "execution_count": 8,
   "id": "a1d650fe-6a44-42cd-b948-b3682f61e04c",
   "metadata": {},
   "outputs": [],
   "source": [
    "test_batch, _ =next(iter(train_loader))"
   ]
  },
  {
   "cell_type": "code",
   "execution_count": 9,
   "id": "979383ef-ad04-4963-b054-dc799edb7a9a",
   "metadata": {},
   "outputs": [],
   "source": [
    "test_Conv3d = BasicConv3d(1, 5, kernel_size=5, stride=5)"
   ]
  },
  {
   "cell_type": "code",
   "execution_count": 10,
   "id": "ac404b93-15c6-4975-b334-97c781cdc54a",
   "metadata": {},
   "outputs": [
    {
     "data": {
      "text/plain": [
       "torch.Size([1, 5, 20, 20, 20])"
      ]
     },
     "execution_count": 10,
     "metadata": {},
     "output_type": "execute_result"
    }
   ],
   "source": [
    "test_Conv3d.forward(test_batch).shape"
   ]
  },
  {
   "cell_type": "code",
   "execution_count": 11,
   "id": "b14de8aa-31fb-49d4-a069-eefef29800ce",
   "metadata": {},
   "outputs": [],
   "source": [
    "test_InceptionA = InceptionA(1, 5)"
   ]
  },
  {
   "cell_type": "code",
   "execution_count": 16,
   "id": "54b063b3-a45d-43e1-bdf3-1e44fd600ae0",
   "metadata": {},
   "outputs": [
    {
     "name": "stdout",
     "output_type": "stream",
     "text": [
      "device: cuda\n"
     ]
    }
   ],
   "source": [
    "device = 'cuda' if torch.cuda.is_available() else 'cpu'\n",
    "print(f'device: {device}')\n",
    "\n",
    "test_InceptionA.to(device)\n",
    "dev_test_batch = test_batch.to(device)\n",
    "\n",
    "inception_output = test_InceptionA.forward(dev_test_batch)"
   ]
  },
  {
   "cell_type": "code",
   "execution_count": 17,
   "id": "97564ade-e8b5-452d-922d-208f42e175f6",
   "metadata": {},
   "outputs": [],
   "source": [
    "import sys"
   ]
  },
  {
   "cell_type": "code",
   "execution_count": 21,
   "id": "762c4f1c-d75b-4ef6-8ed8-6465714b49e4",
   "metadata": {},
   "outputs": [
    {
     "data": {
      "text/plain": [
       "64"
      ]
     },
     "execution_count": 21,
     "metadata": {},
     "output_type": "execute_result"
    }
   ],
   "source": [
    "sys.getsizeof(inception_output.to('cpu'))"
   ]
  },
  {
   "cell_type": "code",
   "execution_count": null,
   "id": "4aa45d83-5b3d-4b77-a2c8-7626dd58fa30",
   "metadata": {},
   "outputs": [],
   "source": []
  },
  {
   "cell_type": "code",
   "execution_count": null,
   "id": "7e943be3-fd0c-4e1a-af6e-e88ee77ee7d3",
   "metadata": {},
   "outputs": [],
   "source": []
  }
 ],
 "metadata": {
  "kernelspec": {
   "display_name": "Python 3 (ipykernel)",
   "language": "python",
   "name": "python3"
  },
  "language_info": {
   "codemirror_mode": {
    "name": "ipython",
    "version": 3
   },
   "file_extension": ".py",
   "mimetype": "text/x-python",
   "name": "python",
   "nbconvert_exporter": "python",
   "pygments_lexer": "ipython3",
   "version": "3.9.5"
  }
 },
 "nbformat": 4,
 "nbformat_minor": 5
}
